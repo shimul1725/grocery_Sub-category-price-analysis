{
 "cells": [
  {
   "cell_type": "code",
   "execution_count": 1,
   "id": "142a799c",
   "metadata": {},
   "outputs": [],
   "source": [
    "# This Python 3 environment comes with many helpful analytics libraries installed\n",
    "# It is defined by the kaggle/python Docker image: https://github.com/kaggle/docker-python\n",
    "# For example, here's several helpful packages to load\n",
    "\n",
    "import numpy as np # linear algebra\n",
    "import pandas as pd # data processing, CSV file I/O (e.g. pd.read_csv)\n",
    "\n",
    "# Input data files are available in the read-only \"../input/\" directory\n",
    "# For example, running this (by clicking run or pressing Shift+Enter) will list all files under the input directory\n",
    "\n",
    "import os\n",
    "for dirname, _, filenames in os.walk('/Data/input'):\n",
    "    for filename in filenames:\n",
    "        print(os.path.join(dirname, filename))\n",
    "\n",
    "# You can write up to 20GB to the current directory (/kaggle/working/) that gets preserved as output when you create a version using \"Save & Run All\" \n",
    "# You can also write temporary files to /kaggle/temp/, but they won't be saved outside of the current session"
   ]
  },
  {
   "cell_type": "code",
   "execution_count": 3,
   "id": "89c21885",
   "metadata": {},
   "outputs": [],
   "source": [
    "# Load the dataset\n",
    "file_path = 'Data/GroceryDataset.csv'\n",
    "grocery_data = pd.read_csv(file_path)"
   ]
  },
  {
   "cell_type": "code",
   "execution_count": 4,
   "id": "8cb2ea68",
   "metadata": {},
   "outputs": [
    {
     "data": {
      "text/html": [
       "<div>\n",
       "<style scoped>\n",
       "    .dataframe tbody tr th:only-of-type {\n",
       "        vertical-align: middle;\n",
       "    }\n",
       "\n",
       "    .dataframe tbody tr th {\n",
       "        vertical-align: top;\n",
       "    }\n",
       "\n",
       "    .dataframe thead th {\n",
       "        text-align: right;\n",
       "    }\n",
       "</style>\n",
       "<table border=\"1\" class=\"dataframe\">\n",
       "  <thead>\n",
       "    <tr style=\"text-align: right;\">\n",
       "      <th></th>\n",
       "      <th>Sub Category</th>\n",
       "      <th>Price</th>\n",
       "      <th>Discount</th>\n",
       "      <th>Rating</th>\n",
       "      <th>Title</th>\n",
       "      <th>Currency</th>\n",
       "      <th>Feature</th>\n",
       "      <th>Product Description</th>\n",
       "    </tr>\n",
       "  </thead>\n",
       "  <tbody>\n",
       "    <tr>\n",
       "      <th>0</th>\n",
       "      <td>Bakery &amp; Desserts</td>\n",
       "      <td>$56.99</td>\n",
       "      <td>No Discount</td>\n",
       "      <td>Rated 4.3 out of 5 stars based on 265 reviews.</td>\n",
       "      <td>David’s Cookies Mile High Peanut Butter Cake, ...</td>\n",
       "      <td>$</td>\n",
       "      <td>\"10\"\" Peanut Butter Cake\\nCertified Kosher OU-...</td>\n",
       "      <td>A cake the dessert epicure will die for!Our To...</td>\n",
       "    </tr>\n",
       "    <tr>\n",
       "      <th>1</th>\n",
       "      <td>Bakery &amp; Desserts</td>\n",
       "      <td>$159.99</td>\n",
       "      <td>No Discount</td>\n",
       "      <td>Rated 5 out of 5 stars based on 1 reviews.</td>\n",
       "      <td>The Cake Bake Shop 8\" Round Carrot Cake (16-22...</td>\n",
       "      <td>$</td>\n",
       "      <td>Spiced Carrot Cake with Cream Cheese Frosting ...</td>\n",
       "      <td>Due to the perishable nature of this item, ord...</td>\n",
       "    </tr>\n",
       "    <tr>\n",
       "      <th>2</th>\n",
       "      <td>Bakery &amp; Desserts</td>\n",
       "      <td>$44.99</td>\n",
       "      <td>No Discount</td>\n",
       "      <td>Rated 4.1 out of 5 stars based on 441 reviews.</td>\n",
       "      <td>St Michel Madeleine, Classic French Sponge Cak...</td>\n",
       "      <td>$</td>\n",
       "      <td>100 count\\nIndividually wrapped\\nMade in and I...</td>\n",
       "      <td>Moist and buttery sponge cakes with the tradit...</td>\n",
       "    </tr>\n",
       "    <tr>\n",
       "      <th>3</th>\n",
       "      <td>Bakery &amp; Desserts</td>\n",
       "      <td>$39.99</td>\n",
       "      <td>No Discount</td>\n",
       "      <td>Rated 4.7 out of 5 stars based on 9459 reviews.</td>\n",
       "      <td>David's Cookies Butter Pecan Meltaways 32 oz, ...</td>\n",
       "      <td>$</td>\n",
       "      <td>Butter Pecan Meltaways\\n32 oz 2-Pack\\nNo Prese...</td>\n",
       "      <td>These delectable butter pecan meltaways are th...</td>\n",
       "    </tr>\n",
       "    <tr>\n",
       "      <th>4</th>\n",
       "      <td>Bakery &amp; Desserts</td>\n",
       "      <td>$59.99</td>\n",
       "      <td>No Discount</td>\n",
       "      <td>Rated 4.5 out of 5 stars based on 758 reviews.</td>\n",
       "      <td>David’s Cookies Premier Chocolate Cake, 7.2 lb...</td>\n",
       "      <td>$</td>\n",
       "      <td>\"10\" Four Layer Chocolate Cake\\nCertified Kosh...</td>\n",
       "      <td>A cake the dessert epicure will die for!To the...</td>\n",
       "    </tr>\n",
       "  </tbody>\n",
       "</table>\n",
       "</div>"
      ],
      "text/plain": [
       "        Sub Category     Price     Discount  \\\n",
       "0  Bakery & Desserts   $56.99   No Discount   \n",
       "1  Bakery & Desserts  $159.99   No Discount   \n",
       "2  Bakery & Desserts   $44.99   No Discount   \n",
       "3  Bakery & Desserts   $39.99   No Discount   \n",
       "4  Bakery & Desserts   $59.99   No Discount   \n",
       "\n",
       "                                            Rating  \\\n",
       "0   Rated 4.3 out of 5 stars based on 265 reviews.   \n",
       "1       Rated 5 out of 5 stars based on 1 reviews.   \n",
       "2   Rated 4.1 out of 5 stars based on 441 reviews.   \n",
       "3  Rated 4.7 out of 5 stars based on 9459 reviews.   \n",
       "4   Rated 4.5 out of 5 stars based on 758 reviews.   \n",
       "\n",
       "                                               Title Currency  \\\n",
       "0  David’s Cookies Mile High Peanut Butter Cake, ...        $   \n",
       "1  The Cake Bake Shop 8\" Round Carrot Cake (16-22...        $   \n",
       "2  St Michel Madeleine, Classic French Sponge Cak...        $   \n",
       "3  David's Cookies Butter Pecan Meltaways 32 oz, ...        $   \n",
       "4  David’s Cookies Premier Chocolate Cake, 7.2 lb...        $   \n",
       "\n",
       "                                             Feature  \\\n",
       "0  \"10\"\" Peanut Butter Cake\\nCertified Kosher OU-...   \n",
       "1  Spiced Carrot Cake with Cream Cheese Frosting ...   \n",
       "2  100 count\\nIndividually wrapped\\nMade in and I...   \n",
       "3  Butter Pecan Meltaways\\n32 oz 2-Pack\\nNo Prese...   \n",
       "4  \"10\" Four Layer Chocolate Cake\\nCertified Kosh...   \n",
       "\n",
       "                                 Product Description  \n",
       "0  A cake the dessert epicure will die for!Our To...  \n",
       "1  Due to the perishable nature of this item, ord...  \n",
       "2  Moist and buttery sponge cakes with the tradit...  \n",
       "3  These delectable butter pecan meltaways are th...  \n",
       "4  A cake the dessert epicure will die for!To the...  "
      ]
     },
     "execution_count": 4,
     "metadata": {},
     "output_type": "execute_result"
    }
   ],
   "source": [
    "# Initial Peek\n",
    "grocery_data.head()"
   ]
  },
  {
   "cell_type": "code",
   "execution_count": 5,
   "id": "21111453",
   "metadata": {},
   "outputs": [
    {
     "data": {
      "text/html": [
       "<div>\n",
       "<style scoped>\n",
       "    .dataframe tbody tr th:only-of-type {\n",
       "        vertical-align: middle;\n",
       "    }\n",
       "\n",
       "    .dataframe tbody tr th {\n",
       "        vertical-align: top;\n",
       "    }\n",
       "\n",
       "    .dataframe thead th {\n",
       "        text-align: right;\n",
       "    }\n",
       "</style>\n",
       "<table border=\"1\" class=\"dataframe\">\n",
       "  <thead>\n",
       "    <tr style=\"text-align: right;\">\n",
       "      <th></th>\n",
       "      <th>Sub Category</th>\n",
       "      <th>Price</th>\n",
       "      <th>Discount</th>\n",
       "      <th>Rating</th>\n",
       "      <th>Title</th>\n",
       "      <th>Currency</th>\n",
       "      <th>Feature</th>\n",
       "      <th>Product Description</th>\n",
       "    </tr>\n",
       "  </thead>\n",
       "  <tbody>\n",
       "    <tr>\n",
       "      <th>1752</th>\n",
       "      <td>Snacks</td>\n",
       "      <td>$23.99</td>\n",
       "      <td>No Discount</td>\n",
       "      <td>NaN</td>\n",
       "      <td>Oberto Thin Style Smoked Sausage Stick, Cockta...</td>\n",
       "      <td>$</td>\n",
       "      <td>Cocktail Pepperoni   Smoked Sausage Sticks   3...</td>\n",
       "      <td>Cocktail PepperoniSmoked Sausage Sticks3 oz ba...</td>\n",
       "    </tr>\n",
       "    <tr>\n",
       "      <th>1753</th>\n",
       "      <td>Snacks</td>\n",
       "      <td>$49.99</td>\n",
       "      <td>No Discount</td>\n",
       "      <td>NaN</td>\n",
       "      <td>Cheetos Crunchy, Original, 2.1 oz, 64-count</td>\n",
       "      <td>$</td>\n",
       "      <td>Made with Real Cheese</td>\n",
       "      <td>64-count2.1 oz Bags</td>\n",
       "    </tr>\n",
       "    <tr>\n",
       "      <th>1754</th>\n",
       "      <td>Snacks</td>\n",
       "      <td>$22.99</td>\n",
       "      <td>No Discount</td>\n",
       "      <td>NaN</td>\n",
       "      <td>Sabritas Chile &amp; Limon Mix, Variety Pack, 30-c...</td>\n",
       "      <td>$</td>\n",
       "      <td>Chile &amp; Limón Mix   Variety Pack   30 ct   Net...</td>\n",
       "      <td>8-Doritos Dinamita Chile Limón Flavored Rolled...</td>\n",
       "    </tr>\n",
       "    <tr>\n",
       "      <th>1755</th>\n",
       "      <td>Snacks</td>\n",
       "      <td>$17.49</td>\n",
       "      <td>No Discount</td>\n",
       "      <td>NaN</td>\n",
       "      <td>Fruit Roll-Ups, Variety Pack, 72-count</td>\n",
       "      <td>$</td>\n",
       "      <td>Variety Pack   1   Box with 72 Rolls   Flavore...</td>\n",
       "      <td>Fruit Flavored Snacks\\nVariety Includes: Straw...</td>\n",
       "    </tr>\n",
       "    <tr>\n",
       "      <th>1756</th>\n",
       "      <td>Snacks</td>\n",
       "      <td>$21.99</td>\n",
       "      <td>No Discount</td>\n",
       "      <td>NaN</td>\n",
       "      <td>Takis, Rolled Tortilla Chips, Intense Nacho, 1...</td>\n",
       "      <td>$</td>\n",
       "      <td>Intense Nacho Cheese   Non-Spicy   1 oz bag, 5...</td>\n",
       "      <td>Takis Non-Spicy Cheese Tortilla Chips\\nIndivid...</td>\n",
       "    </tr>\n",
       "  </tbody>\n",
       "</table>\n",
       "</div>"
      ],
      "text/plain": [
       "     Sub Category    Price     Discount Rating  \\\n",
       "1752       Snacks  $23.99   No Discount    NaN   \n",
       "1753       Snacks  $49.99   No Discount    NaN   \n",
       "1754       Snacks  $22.99   No Discount    NaN   \n",
       "1755       Snacks  $17.49   No Discount    NaN   \n",
       "1756       Snacks  $21.99   No Discount    NaN   \n",
       "\n",
       "                                                  Title Currency  \\\n",
       "1752  Oberto Thin Style Smoked Sausage Stick, Cockta...        $   \n",
       "1753        Cheetos Crunchy, Original, 2.1 oz, 64-count        $   \n",
       "1754  Sabritas Chile & Limon Mix, Variety Pack, 30-c...        $   \n",
       "1755             Fruit Roll-Ups, Variety Pack, 72-count        $   \n",
       "1756  Takis, Rolled Tortilla Chips, Intense Nacho, 1...        $   \n",
       "\n",
       "                                                Feature  \\\n",
       "1752  Cocktail Pepperoni   Smoked Sausage Sticks   3...   \n",
       "1753                              Made with Real Cheese   \n",
       "1754  Chile & Limón Mix   Variety Pack   30 ct   Net...   \n",
       "1755  Variety Pack   1   Box with 72 Rolls   Flavore...   \n",
       "1756  Intense Nacho Cheese   Non-Spicy   1 oz bag, 5...   \n",
       "\n",
       "                                    Product Description  \n",
       "1752  Cocktail PepperoniSmoked Sausage Sticks3 oz ba...  \n",
       "1753                                64-count2.1 oz Bags  \n",
       "1754  8-Doritos Dinamita Chile Limón Flavored Rolled...  \n",
       "1755  Fruit Flavored Snacks\\nVariety Includes: Straw...  \n",
       "1756  Takis Non-Spicy Cheese Tortilla Chips\\nIndivid...  "
      ]
     },
     "execution_count": 5,
     "metadata": {},
     "output_type": "execute_result"
    }
   ],
   "source": [
    "# Initial Peek\n",
    "grocery_data.tail()"
   ]
  },
  {
   "cell_type": "code",
   "execution_count": 6,
   "id": "6af68b38",
   "metadata": {},
   "outputs": [
    {
     "data": {
      "text/html": [
       "<div>\n",
       "<style scoped>\n",
       "    .dataframe tbody tr th:only-of-type {\n",
       "        vertical-align: middle;\n",
       "    }\n",
       "\n",
       "    .dataframe tbody tr th {\n",
       "        vertical-align: top;\n",
       "    }\n",
       "\n",
       "    .dataframe thead th {\n",
       "        text-align: right;\n",
       "    }\n",
       "</style>\n",
       "<table border=\"1\" class=\"dataframe\">\n",
       "  <thead>\n",
       "    <tr style=\"text-align: right;\">\n",
       "      <th></th>\n",
       "      <th>Sub Category</th>\n",
       "      <th>Price</th>\n",
       "      <th>Discount</th>\n",
       "      <th>Rating</th>\n",
       "      <th>Title</th>\n",
       "      <th>Currency</th>\n",
       "      <th>Feature</th>\n",
       "      <th>Product Description</th>\n",
       "    </tr>\n",
       "  </thead>\n",
       "  <tbody>\n",
       "    <tr>\n",
       "      <th>count</th>\n",
       "      <td>1757</td>\n",
       "      <td>1754</td>\n",
       "      <td>1757</td>\n",
       "      <td>682</td>\n",
       "      <td>1757</td>\n",
       "      <td>1752</td>\n",
       "      <td>1739</td>\n",
       "      <td>1715</td>\n",
       "    </tr>\n",
       "    <tr>\n",
       "      <th>unique</th>\n",
       "      <td>19</td>\n",
       "      <td>184</td>\n",
       "      <td>42</td>\n",
       "      <td>483</td>\n",
       "      <td>1484</td>\n",
       "      <td>1</td>\n",
       "      <td>1401</td>\n",
       "      <td>1435</td>\n",
       "    </tr>\n",
       "    <tr>\n",
       "      <th>top</th>\n",
       "      <td>Snacks</td>\n",
       "      <td>$14.99</td>\n",
       "      <td>No Discount</td>\n",
       "      <td>No Reviews</td>\n",
       "      <td>Ziploc Seal Top Freezer Bag, Gallon, 38-count,...</td>\n",
       "      <td>$</td>\n",
       "      <td>Pick Your Arrival Date at Checkout   Gift Mess...</td>\n",
       "      <td>Item may be available in your local warehouse ...</td>\n",
       "    </tr>\n",
       "    <tr>\n",
       "      <th>freq</th>\n",
       "      <td>293</td>\n",
       "      <td>81</td>\n",
       "      <td>1626</td>\n",
       "      <td>61</td>\n",
       "      <td>4</td>\n",
       "      <td>1752</td>\n",
       "      <td>7</td>\n",
       "      <td>5</td>\n",
       "    </tr>\n",
       "  </tbody>\n",
       "</table>\n",
       "</div>"
      ],
      "text/plain": [
       "       Sub Category    Price     Discount      Rating  \\\n",
       "count          1757     1754         1757         682   \n",
       "unique           19      184           42         483   \n",
       "top          Snacks  $14.99   No Discount  No Reviews   \n",
       "freq            293       81         1626          61   \n",
       "\n",
       "                                                    Title Currency  \\\n",
       "count                                                1757     1752   \n",
       "unique                                               1484        1   \n",
       "top     Ziploc Seal Top Freezer Bag, Gallon, 38-count,...        $   \n",
       "freq                                                    4     1752   \n",
       "\n",
       "                                                  Feature  \\\n",
       "count                                                1739   \n",
       "unique                                               1401   \n",
       "top     Pick Your Arrival Date at Checkout   Gift Mess...   \n",
       "freq                                                    7   \n",
       "\n",
       "                                      Product Description  \n",
       "count                                                1715  \n",
       "unique                                               1435  \n",
       "top     Item may be available in your local warehouse ...  \n",
       "freq                                                    5  "
      ]
     },
     "execution_count": 6,
     "metadata": {},
     "output_type": "execute_result"
    }
   ],
   "source": [
    "# Descriptive Statistics\n",
    "grocery_data.describe(include='all')"
   ]
  },
  {
   "cell_type": "markdown",
   "id": "116e12a2",
   "metadata": {},
   "source": [
    "#### Based on the initial inspection of the \"GroceryDataset.csv\", here are the columns it contains:\n",
    "\n",
    "**Sub Category: The category of the grocery item.\n",
    "**Price: The price of the item, currently in a string format with a currency symbol.\n",
    "**Discount: Information about any discounts on the item.\n",
    "**Rating: Customer ratings with details on the number of reviews.\n",
    "**Title: The title or name of the grocery item.\n",
    "**Currency: The currency symbol for the price.\n",
    "**Feature: Key features of the item.\n",
    "**Product Description: A description of the product."
   ]
  },
  {
   "cell_type": "code",
   "execution_count": 7,
   "id": "e9d53b0d",
   "metadata": {},
   "outputs": [
    {
     "data": {
      "text/plain": [
       "array(['$56.99 ', '$159.99 ', '$44.99 ', '$39.99 ', '$59.99 ', '$74.99 ',\n",
       "       '$29.99 ', '$62.99 ', '$299.99 ', '$54.99 ', '$89.99 ', '$49.99 ',\n",
       "       '$99.99 ', '$24.99 ', '$72.99 ', '$119.99 ', '$109.99 ', '$34.99 ',\n",
       "       '$27.99 ', '$21.99 ', '$20.99 ', '$19.99 ', '$439.99 ', '$9.99 ',\n",
       "       '$14.99 ', '$18.99 ', '$21.49 ', '$17.99 ', '$23.99 ', '$4.99 ',\n",
       "       '$12.99 ', '$32.99 ', '$13.79 ', '$23.49 ', '$22.99 ', '$8.99 ',\n",
       "       '$15.99 ', '$28.99 ', '$16.49 ', '$549.99 ', '$17.49 ', '$25.99 ',\n",
       "       '$11.69 ', '$69.99 ', '$21.79 ', '$37.99 ', '$139.99 ', '$41.99 ',\n",
       "       '$18.49 ', '$16.99 ', '$36.99 ', '$10.99 ', '$61.99 ', '$17.59 ',\n",
       "       '$11.99 ', '$24.49 ', '$10.49 ', '$9.69 ', '$8.19 ', '$9.49 ',\n",
       "       '$12.49 ', '$12.69 ', '$31.99 ', '$15.49 ', '$46.99 ', '$11.49 ',\n",
       "       '$16.39 ', '$13.99 ', '$38.99 ', '$26.99 ', '$13.49 ', '$14.49 ',\n",
       "       '$26.69 ', '$42.99 ', '$45.99 ', '$7.99 ', '$25.69 ', '$19.49 ',\n",
       "       '$12.09 ', '$10.79 ', '$17.89 ', '$28.79 ', '$84.99 ',\n",
       "       '$32.99through-$83.99', '$20.89 ', '$9.79 ', '$29.89 ', '$199.99 ',\n",
       "       '$47.99 ', '$18.39 ', '$43.99 ', '$33.99 ', '$28.49 ', '$10.29 ',\n",
       "       '$35.99 ', '$48.99 ', '$29.69 ', '$6.59 ', '$149.99 ', '$649.99 ',\n",
       "       '$1,999.99 ', '$124.99 ', '$249.99 ', '$279.99 ', '$169.99 ',\n",
       "       '$1,399.99 ', '$379.99 ', '$64.99 ', '$54.99through-$59.99',\n",
       "       '$49.99through-$54.99', '$55.99 ', '$129.99 ', '$57.99 ',\n",
       "       '$59.99through-$64.99', '$58.99 ', '$52.99 ', '$179.99 ',\n",
       "       '$219.99through-$549.99', '$84.99through-$219.99',\n",
       "       '$219.99through-$529.99', '$79.99 ', '$229.99 ', '$8.49 ',\n",
       "       '$7.49 ', '$11.39 ', '$93.79 ', '$91.79 ', '$11.29 ', '$12.39 ',\n",
       "       '$95.79 ', '$117.79 ', '$69.79 ', '$4.49 ', '$52.79 ', '$102.79 ',\n",
       "       '$84.79 ', '$10.19 ', '$5.49 ', '$12.79 ', '$73.99 ', '$949.99 ',\n",
       "       '$3.99 ', '$4.79 ', '$6.69 ', '$37.49 ', '$239.99 ',\n",
       "       '$129.99through-$279.99', '$109.99through-$259.99', '$259.99 ',\n",
       "       '$209.99 ', '$349.99 ', '$219.99 ', '$339.99 ', '$399.99 ',\n",
       "       '$429.99 ', '$114.99 ', '$369.99 ', '$469.99 ', '$189.99 ',\n",
       "       '$329.99 ', '$269.99 ', '$449.99 ', '$529.99 ', '$999.99 ',\n",
       "       '$1,099.99 ', nan, '$69.97 ', '$169.99through-$429.99', '$569.99 ',\n",
       "       '$10.39 ', '$10.69 ', '$6.49 ', '$6.99 ', '$16.19 ', '$22.49 ',\n",
       "       '$13.69 ', '$26.49 ', '$11.89 ', '$15.29 ', '$19.39 ', '$13.39 ',\n",
       "       '$11.59 ', '$15.39 ', '$13.19 ', '$7.79 '], dtype=object)"
      ]
     },
     "execution_count": 7,
     "metadata": {},
     "output_type": "execute_result"
    }
   ],
   "source": [
    "# Unique Value Inspection for a specific column\n",
    "grocery_data['Price'].unique()"
   ]
  },
  {
   "cell_type": "code",
   "execution_count": 8,
   "id": "9bafa310",
   "metadata": {},
   "outputs": [
    {
     "data": {
      "text/plain": [
       "Sub Category           object\n",
       "Price                  object\n",
       "Discount               object\n",
       "Rating                 object\n",
       "Title                  object\n",
       "Currency               object\n",
       "Feature                object\n",
       "Product Description    object\n",
       "dtype: object"
      ]
     },
     "execution_count": 8,
     "metadata": {},
     "output_type": "execute_result"
    }
   ],
   "source": [
    "# Data Type Analysis\n",
    "grocery_data.dtypes"
   ]
  },
  {
   "cell_type": "code",
   "execution_count": 9,
   "id": "56939ac0",
   "metadata": {},
   "outputs": [
    {
     "data": {
      "text/plain": [
       "Sub Category              0\n",
       "Price                     3\n",
       "Discount                  0\n",
       "Rating                 1075\n",
       "Title                     0\n",
       "Currency                  5\n",
       "Feature                  18\n",
       "Product Description      42\n",
       "dtype: int64"
      ]
     },
     "execution_count": 9,
     "metadata": {},
     "output_type": "execute_result"
    }
   ],
   "source": [
    "# Count Missing Values\n",
    "grocery_data.isnull().sum()"
   ]
  },
  {
   "cell_type": "code",
   "execution_count": 10,
   "id": "0c095285",
   "metadata": {},
   "outputs": [],
   "source": [
    "# Convert all price values to strings to ensure consistent format\n",
    "grocery_data['Price'] = grocery_data['Price'].astype(str)"
   ]
  },
  {
   "cell_type": "code",
   "execution_count": 11,
   "id": "24e3aa5f",
   "metadata": {},
   "outputs": [
    {
     "data": {
      "text/plain": [
       "True"
      ]
     },
     "execution_count": 11,
     "metadata": {},
     "output_type": "execute_result"
    }
   ],
   "source": [
    "all(isinstance(item, str) for item in grocery_data['Price'])"
   ]
  },
  {
   "cell_type": "markdown",
   "id": "683c18cb",
   "metadata": {},
   "source": [
    "** Before proceeding with any analysis, we need to convert the 'Price' and 'Rating' columns, which contain non-numeric characters."
   ]
  },
  {
   "cell_type": "code",
   "execution_count": 12,
   "id": "59fc303a",
   "metadata": {},
   "outputs": [],
   "source": [
    "#Remove Currency Symbols and Commas: \n",
    "#Prices might be formatted as strings with currency symbols and commas. \n",
    "#To Use string replacement functions to remove these.\n",
    "\n",
    "grocery_data['Price'] = grocery_data['Price'].replace({'\\$': '', ',': ''}, regex=True)"
   ]
  },
  {
   "cell_type": "code",
   "execution_count": 13,
   "id": "7fe49d97",
   "metadata": {},
   "outputs": [
    {
     "data": {
      "text/plain": [
       "array(['56.99 ', '159.99 ', '44.99 ', '39.99 ', '59.99 ', '74.99 ',\n",
       "       '29.99 ', '62.99 ', '299.99 ', '54.99 ', '89.99 ', '49.99 ',\n",
       "       '99.99 ', '24.99 ', '72.99 ', '119.99 ', '109.99 ', '34.99 ',\n",
       "       '27.99 ', '21.99 ', '20.99 ', '19.99 ', '439.99 ', '9.99 ',\n",
       "       '14.99 ', '18.99 ', '21.49 ', '17.99 ', '23.99 ', '4.99 ',\n",
       "       '12.99 ', '32.99 ', '13.79 ', '23.49 ', '22.99 ', '8.99 ',\n",
       "       '15.99 ', '28.99 ', '16.49 ', '549.99 ', '17.49 ', '25.99 ',\n",
       "       '11.69 ', '69.99 ', '21.79 ', '37.99 ', '139.99 ', '41.99 ',\n",
       "       '18.49 ', '16.99 ', '36.99 ', '10.99 ', '61.99 ', '17.59 ',\n",
       "       '11.99 ', '24.49 ', '10.49 ', '9.69 ', '8.19 ', '9.49 ', '12.49 ',\n",
       "       '12.69 ', '31.99 ', '15.49 ', '46.99 ', '11.49 ', '16.39 ',\n",
       "       '13.99 ', '38.99 ', '26.99 ', '13.49 ', '14.49 ', '26.69 ',\n",
       "       '42.99 ', '45.99 ', '7.99 ', '25.69 ', '19.49 ', '12.09 ',\n",
       "       '10.79 ', '17.89 ', '28.79 ', '84.99 ', '32.99through-83.99',\n",
       "       '20.89 ', '9.79 ', '29.89 ', '199.99 ', '47.99 ', '18.39 ',\n",
       "       '43.99 ', '33.99 ', '28.49 ', '10.29 ', '35.99 ', '48.99 ',\n",
       "       '29.69 ', '6.59 ', '149.99 ', '649.99 ', '1999.99 ', '124.99 ',\n",
       "       '249.99 ', '279.99 ', '169.99 ', '1399.99 ', '379.99 ', '64.99 ',\n",
       "       '54.99through-59.99', '49.99through-54.99', '55.99 ', '129.99 ',\n",
       "       '57.99 ', '59.99through-64.99', '58.99 ', '52.99 ', '179.99 ',\n",
       "       '219.99through-549.99', '84.99through-219.99',\n",
       "       '219.99through-529.99', '79.99 ', '229.99 ', '8.49 ', '7.49 ',\n",
       "       '11.39 ', '93.79 ', '91.79 ', '11.29 ', '12.39 ', '95.79 ',\n",
       "       '117.79 ', '69.79 ', '4.49 ', '52.79 ', '102.79 ', '84.79 ',\n",
       "       '10.19 ', '5.49 ', '12.79 ', '73.99 ', '949.99 ', '3.99 ', '4.79 ',\n",
       "       '6.69 ', '37.49 ', '239.99 ', '129.99through-279.99',\n",
       "       '109.99through-259.99', '259.99 ', '209.99 ', '349.99 ', '219.99 ',\n",
       "       '339.99 ', '399.99 ', '429.99 ', '114.99 ', '369.99 ', '469.99 ',\n",
       "       '189.99 ', '329.99 ', '269.99 ', '449.99 ', '529.99 ', '999.99 ',\n",
       "       '1099.99 ', 'nan', '69.97 ', '169.99through-429.99', '569.99 ',\n",
       "       '10.39 ', '10.69 ', '6.49 ', '6.99 ', '16.19 ', '22.49 ', '13.69 ',\n",
       "       '26.49 ', '11.89 ', '15.29 ', '19.39 ', '13.39 ', '11.59 ',\n",
       "       '15.39 ', '13.19 ', '7.79 '], dtype=object)"
      ]
     },
     "execution_count": 13,
     "metadata": {},
     "output_type": "execute_result"
    }
   ],
   "source": [
    "# Unique Value Inspection for a specific column\n",
    "grocery_data['Price'].unique()"
   ]
  },
  {
   "cell_type": "code",
   "execution_count": 14,
   "id": "06c6d681",
   "metadata": {},
   "outputs": [],
   "source": [
    "def handle_price_range(price_str):\n",
    "    # Convert price to string if it's not\n",
    "    price_str = str(price_str)\n",
    "\n",
    "    if 'through-' in price_str:\n",
    "        # Split the range into lower and upper values using 'through-'\n",
    "        lower, upper = price_str.split('through-')\n",
    "\n",
    "        return (float(lower) + float(upper)) / 2  # Calculate the average\n",
    "\n",
    "    # Convert back to float for a consistent data type\n",
    "    return float(price_str)"
   ]
  },
  {
   "cell_type": "code",
   "execution_count": 15,
   "id": "5b280573",
   "metadata": {},
   "outputs": [],
   "source": [
    "grocery_data['Price'] = grocery_data['Price'].apply(handle_price_range)"
   ]
  },
  {
   "cell_type": "code",
   "execution_count": 16,
   "id": "2145e60d",
   "metadata": {},
   "outputs": [
    {
     "data": {
      "text/plain": [
       "array([  56.99,  159.99,   44.99,   39.99,   59.99,   74.99,   29.99,\n",
       "         62.99,  299.99,   54.99,   89.99,   49.99,   99.99,   24.99,\n",
       "         72.99,  119.99,  109.99,   34.99,   27.99,   21.99,   20.99,\n",
       "         19.99,  439.99,    9.99,   14.99,   18.99,   21.49,   17.99,\n",
       "         23.99,    4.99,   12.99,   32.99,   13.79,   23.49,   22.99,\n",
       "          8.99,   15.99,   28.99,   16.49,  549.99,   17.49,   25.99,\n",
       "         11.69,   69.99,   21.79,   37.99,  139.99,   41.99,   18.49,\n",
       "         16.99,   36.99,   10.99,   61.99,   17.59,   11.99,   24.49,\n",
       "         10.49,    9.69,    8.19,    9.49,   12.49,   12.69,   31.99,\n",
       "         15.49,   46.99,   11.49,   16.39,   13.99,   38.99,   26.99,\n",
       "         13.49,   14.49,   26.69,   42.99,   45.99,    7.99,   25.69,\n",
       "         19.49,   12.09,   10.79,   17.89,   28.79,   84.99,   58.49,\n",
       "         20.89,    9.79,   29.89,  199.99,   47.99,   18.39,   43.99,\n",
       "         33.99,   28.49,   10.29,   35.99,   48.99,   29.69,    6.59,\n",
       "        149.99,  649.99, 1999.99,  124.99,  249.99,  279.99,  169.99,\n",
       "       1399.99,  379.99,   64.99,   57.49,   52.49,   55.99,  129.99,\n",
       "         57.99,   62.49,   58.99,   52.99,  179.99,  384.99,  152.49,\n",
       "        374.99,   79.99,  229.99,    8.49,    7.49,   11.39,   93.79,\n",
       "         91.79,   11.29,   12.39,   95.79,  117.79,   69.79,    4.49,\n",
       "         52.79,  102.79,   84.79,   10.19,    5.49,   12.79,   73.99,\n",
       "        949.99,    3.99,    4.79,    6.69,   37.49,  239.99,  204.99,\n",
       "        184.99,  259.99,  209.99,  349.99,  219.99,  339.99,  399.99,\n",
       "        429.99,  114.99,  369.99,  469.99,  189.99,  329.99,  269.99,\n",
       "        449.99,  529.99,  999.99, 1099.99,     nan,   69.97,  569.99,\n",
       "         10.39,   10.69,    6.49,    6.99,   16.19,   22.49,   13.69,\n",
       "         26.49,   11.89,   15.29,   19.39,   13.39,   11.59,   15.39,\n",
       "         13.19,    7.79])"
      ]
     },
     "execution_count": 16,
     "metadata": {},
     "output_type": "execute_result"
    }
   ],
   "source": [
    "# Unique Value Inspection for a specific column\n",
    "grocery_data['Price'].unique()"
   ]
  },
  {
   "cell_type": "code",
   "execution_count": 17,
   "id": "fe2cd077",
   "metadata": {},
   "outputs": [],
   "source": [
    "#Extract Numeric Ratings: Ratings might be in a format like '4.3 out of 5 stars'. Extract the numeric part.\n",
    "\n",
    "grocery_data['Numeric Rating'] = grocery_data['Rating'].str.extract('(\\d+\\.\\d+|\\d+)')"
   ]
  },
  {
   "cell_type": "code",
   "execution_count": 18,
   "id": "4e73818a",
   "metadata": {},
   "outputs": [],
   "source": [
    "#If there are missing or non-standard entries, decide how to handle them—either leave them as NaN, \n",
    "#fill them with a default value, or use some imputation strategy.\n",
    "grocery_data['Numeric Rating'] = pd.to_numeric(grocery_data['Numeric Rating'], errors='coerce')"
   ]
  },
  {
   "cell_type": "code",
   "execution_count": 19,
   "id": "1b740013",
   "metadata": {},
   "outputs": [
    {
     "name": "stdout",
     "output_type": "stream",
     "text": [
      "Number of NaN values in Price column: 3\n",
      "Number of NaN values in Numeric Rating column: 1140\n"
     ]
    }
   ],
   "source": [
    "# Counting NaN values in the 'Price' column\n",
    "nan_count_price = grocery_data['Price'].isnull().sum()\n",
    "\n",
    "# Counting NaN values in the 'Numeric Rating' column\n",
    "nan_count_numeric_rating = grocery_data['Numeric Rating'].isnull().sum()\n",
    "\n",
    "# Displaying the counts\n",
    "print(\"Number of NaN values in Price column:\", nan_count_price)\n",
    "print(\"Number of NaN values in Numeric Rating column:\", nan_count_numeric_rating)\n"
   ]
  },
  {
   "cell_type": "markdown",
   "id": "d7c29d6f",
   "metadata": {},
   "source": [
    "*** To test the hypothesis about the relationship between product categories and the presence of NaN values in the 'Rating' column, we can perform an analysis to see the distribution of NaN values across different categories. This analysis will help us understand if certain categories are more prone to having missing ratings and inform our strategy for handling these NaN values."
   ]
  },
  {
   "cell_type": "code",
   "execution_count": 20,
   "id": "b3c71411",
   "metadata": {},
   "outputs": [
    {
     "name": "stdout",
     "output_type": "stream",
     "text": [
      "Sub Category\n",
      "Snacks                          256\n",
      "Candy                           135\n",
      "Pantry & Dry Goods              127\n",
      "Beverages & Water               124\n",
      "Kirkland Signature Grocery      103\n",
      "Household                        81\n",
      "Paper & Plastic Products         74\n",
      "Coffee                           58\n",
      "Cleaning Supplies                57\n",
      "Organic                          25\n",
      "Laundry Detergent & Supplies     23\n",
      "Floral                           19\n",
      "Breakfast                        19\n",
      "Gift Baskets                     14\n",
      "Meat & Seafood                   14\n",
      "Seafood                           6\n",
      "Bakery & Desserts                 4\n",
      "Deli                              1\n",
      "Poultry                           0\n",
      "Name: Numeric Rating, dtype: int64\n"
     ]
    }
   ],
   "source": [
    "# Count the number of NaN values in the 'Rating' column for each category\n",
    "nan_counts_by_category = grocery_data.groupby('Sub Category')['Numeric Rating'].apply(lambda x: x.isnull().sum())\n",
    "\n",
    "# Sort the counts for better visualization\n",
    "sorted_nan_counts = nan_counts_by_category.sort_values(ascending=False)\n",
    "\n",
    "print(sorted_nan_counts)"
   ]
  },
  {
   "cell_type": "code",
   "execution_count": 21,
   "id": "f15d2257",
   "metadata": {},
   "outputs": [],
   "source": [
    "# Calculate total items per category\n",
    "total_items_per_category = grocery_data.groupby('Sub Category').size()\n",
    "\n",
    "# Calculate NaN counts in the 'Rating' column for each category\n",
    "nan_counts_by_category = grocery_data.groupby('Sub Category')['Numeric Rating'].apply(lambda x: x.isnull().sum())"
   ]
  },
  {
   "cell_type": "code",
   "execution_count": 22,
   "id": "92556269",
   "metadata": {},
   "outputs": [
    {
     "name": "stdout",
     "output_type": "stream",
     "text": [
      "Sub Category\n",
      "Bakery & Desserts                12.121212\n",
      "Beverages & Water                83.783784\n",
      "Breakfast                        90.476190\n",
      "Candy                            87.662338\n",
      "Cleaning Supplies                60.638298\n",
      "Coffee                           61.052632\n",
      "Deli                              4.761905\n",
      "Floral                           25.333333\n",
      "Gift Baskets                     15.730337\n",
      "Household                       100.000000\n",
      "Kirkland Signature Grocery       84.426230\n",
      "Laundry Detergent & Supplies     58.974359\n",
      "Meat & Seafood                    9.722222\n",
      "Organic                          75.757576\n",
      "Pantry & Dry Goods               74.269006\n",
      "Paper & Plastic Products         84.090909\n",
      "Poultry                           0.000000\n",
      "Seafood                          12.765957\n",
      "Snacks                           87.372014\n",
      "dtype: float64\n"
     ]
    }
   ],
   "source": [
    "# Calculate frequency as a percentage\n",
    "nan_frequency_by_category = (nan_counts_by_category / total_items_per_category) * 100\n",
    "\n",
    "print(nan_frequency_by_category)"
   ]
  },
  {
   "cell_type": "code",
   "execution_count": 23,
   "id": "cfebc191",
   "metadata": {},
   "outputs": [
    {
     "name": "stdout",
     "output_type": "stream",
     "text": [
      "                    Sub Category  Count\n",
      "0                         Snacks    293\n",
      "1             Pantry & Dry Goods    171\n",
      "2                          Candy    154\n",
      "3              Beverages & Water    148\n",
      "4                 Meat & Seafood    144\n",
      "5     Kirkland Signature Grocery    122\n",
      "6                         Coffee     95\n",
      "7              Cleaning Supplies     94\n",
      "8                   Gift Baskets     89\n",
      "9       Paper & Plastic Products     88\n",
      "10                     Household     81\n",
      "11                        Floral     75\n",
      "12                       Seafood     47\n",
      "13  Laundry Detergent & Supplies     39\n",
      "14                       Organic     33\n",
      "15             Bakery & Desserts     33\n",
      "16                          Deli     21\n",
      "17                     Breakfast     21\n",
      "18                       Poultry      9\n"
     ]
    }
   ],
   "source": [
    "# Count the occurrences of each category\n",
    "category_counts = grocery_data['Sub Category'].value_counts()\n",
    "\n",
    "# Convert the counts to a DataFrame for a tabular view\n",
    "category_counts_df = category_counts.reset_index()\n",
    "category_counts_df.columns = ['Sub Category', 'Count']\n",
    "\n",
    "# Display the DataFrame\n",
    "print(category_counts_df)"
   ]
  },
  {
   "cell_type": "code",
   "execution_count": 24,
   "id": "90fc5fef",
   "metadata": {},
   "outputs": [],
   "source": [
    "# Filter out the 'Meat and Seafood' category and create an explicit copy\n",
    "meat_seafood_data = grocery_data[grocery_data['Sub Category'] == 'Meat & Seafood'].copy()\n",
    "\n",
    "# Replace NaN values in 'Rating' with the mean rating of this category\n",
    "mean_rating = meat_seafood_data['Numeric Rating'].mean()\n",
    "meat_seafood_data['Numeric Rating'].fillna(mean_rating, inplace=True)"
   ]
  },
  {
   "cell_type": "code",
   "execution_count": 25,
   "id": "5ab47384",
   "metadata": {},
   "outputs": [],
   "source": [
    "# Replace NaN values in 'Price' with the mean rating of this category\n",
    "mean_rating = meat_seafood_data['Price'].mean()\n",
    "meat_seafood_data['Price'].fillna(mean_rating, inplace=True)"
   ]
  },
  {
   "cell_type": "code",
   "execution_count": 26,
   "id": "3284179f",
   "metadata": {},
   "outputs": [
    {
     "data": {
      "text/html": [
       "<div>\n",
       "<style scoped>\n",
       "    .dataframe tbody tr th:only-of-type {\n",
       "        vertical-align: middle;\n",
       "    }\n",
       "\n",
       "    .dataframe tbody tr th {\n",
       "        vertical-align: top;\n",
       "    }\n",
       "\n",
       "    .dataframe thead th {\n",
       "        text-align: right;\n",
       "    }\n",
       "</style>\n",
       "<table border=\"1\" class=\"dataframe\">\n",
       "  <thead>\n",
       "    <tr style=\"text-align: right;\">\n",
       "      <th></th>\n",
       "      <th>Sub Category</th>\n",
       "      <th>Price</th>\n",
       "      <th>Discount</th>\n",
       "      <th>Rating</th>\n",
       "      <th>Title</th>\n",
       "      <th>Currency</th>\n",
       "      <th>Feature</th>\n",
       "      <th>Product Description</th>\n",
       "      <th>Numeric Rating</th>\n",
       "    </tr>\n",
       "  </thead>\n",
       "  <tbody>\n",
       "    <tr>\n",
       "      <th>1111</th>\n",
       "      <td>Meat &amp; Seafood</td>\n",
       "      <td>219.99</td>\n",
       "      <td>No Discount</td>\n",
       "      <td>Rated 4.5 out of 5 stars based on 140 reviews.</td>\n",
       "      <td>D'Artagnan Whole ABF Pekin Duck, (1/5.25 Lbs. ...</td>\n",
       "      <td>$</td>\n",
       "      <td>6x ABF Whole Pekin Ducklings, 5.25lb average  ...</td>\n",
       "      <td>D’Artagnan Whole Ducklings are raised with car...</td>\n",
       "      <td>4.5</td>\n",
       "    </tr>\n",
       "    <tr>\n",
       "      <th>1112</th>\n",
       "      <td>Meat &amp; Seafood</td>\n",
       "      <td>159.99</td>\n",
       "      <td>No Discount</td>\n",
       "      <td>Rated 4.5 out of 5 stars based on 288 reviews.</td>\n",
       "      <td>El Rey Del Pulpo, Large Cooked Octopus Tentacl...</td>\n",
       "      <td>$</td>\n",
       "      <td>(6) Packs of 2 Cooked Octopus Tentacles, 14 oz...</td>\n",
       "      <td>In collaboration with Northwest Fish, El Rey d...</td>\n",
       "      <td>4.5</td>\n",
       "    </tr>\n",
       "    <tr>\n",
       "      <th>1113</th>\n",
       "      <td>Meat &amp; Seafood</td>\n",
       "      <td>249.99</td>\n",
       "      <td>No Discount</td>\n",
       "      <td>Rated 4.8 out of 5 stars based on 84 reviews.</td>\n",
       "      <td>Mahi Mahi Boneless, (26-27/Skinless 6 Oz. Port...</td>\n",
       "      <td>$</td>\n",
       "      <td>Ships Uncooked, Frozen   6 Oz. Per Portion   1...</td>\n",
       "      <td>Mahi Mahi is a lean flesh fish with a mild, sw...</td>\n",
       "      <td>4.8</td>\n",
       "    </tr>\n",
       "    <tr>\n",
       "      <th>1114</th>\n",
       "      <td>Meat &amp; Seafood</td>\n",
       "      <td>79.99</td>\n",
       "      <td>No Discount</td>\n",
       "      <td>Rated 4.2 out of 5 stars based on 104 reviews.</td>\n",
       "      <td>Tsar Nicoulai Estate Smoked Sturgeon 6 oz, 6-c...</td>\n",
       "      <td>$</td>\n",
       "      <td>Perishable, use or freeze within 21 days of de...</td>\n",
       "      <td>We select and handcraft the finest cuts, then ...</td>\n",
       "      <td>4.2</td>\n",
       "    </tr>\n",
       "    <tr>\n",
       "      <th>1115</th>\n",
       "      <td>Meat &amp; Seafood</td>\n",
       "      <td>649.99</td>\n",
       "      <td>No Discount</td>\n",
       "      <td>Rated 4.7 out of 5 stars based on 305 reviews.</td>\n",
       "      <td>Japanese Wagyu Filet Mignons Steaks, A5 Grade,...</td>\n",
       "      <td>$</td>\n",
       "      <td>(8) A5 Wagyu Filet Mignons Steaks, 6 ounces ea...</td>\n",
       "      <td>Cut from the heart of the tenderloin, Authenti...</td>\n",
       "      <td>4.7</td>\n",
       "    </tr>\n",
       "  </tbody>\n",
       "</table>\n",
       "</div>"
      ],
      "text/plain": [
       "        Sub Category   Price     Discount  \\\n",
       "1111  Meat & Seafood  219.99  No Discount   \n",
       "1112  Meat & Seafood  159.99  No Discount   \n",
       "1113  Meat & Seafood  249.99  No Discount   \n",
       "1114  Meat & Seafood   79.99  No Discount   \n",
       "1115  Meat & Seafood  649.99  No Discount   \n",
       "\n",
       "                                              Rating  \\\n",
       "1111  Rated 4.5 out of 5 stars based on 140 reviews.   \n",
       "1112  Rated 4.5 out of 5 stars based on 288 reviews.   \n",
       "1113   Rated 4.8 out of 5 stars based on 84 reviews.   \n",
       "1114  Rated 4.2 out of 5 stars based on 104 reviews.   \n",
       "1115  Rated 4.7 out of 5 stars based on 305 reviews.   \n",
       "\n",
       "                                                  Title Currency  \\\n",
       "1111  D'Artagnan Whole ABF Pekin Duck, (1/5.25 Lbs. ...        $   \n",
       "1112  El Rey Del Pulpo, Large Cooked Octopus Tentacl...        $   \n",
       "1113  Mahi Mahi Boneless, (26-27/Skinless 6 Oz. Port...        $   \n",
       "1114  Tsar Nicoulai Estate Smoked Sturgeon 6 oz, 6-c...        $   \n",
       "1115  Japanese Wagyu Filet Mignons Steaks, A5 Grade,...        $   \n",
       "\n",
       "                                                Feature  \\\n",
       "1111  6x ABF Whole Pekin Ducklings, 5.25lb average  ...   \n",
       "1112  (6) Packs of 2 Cooked Octopus Tentacles, 14 oz...   \n",
       "1113  Ships Uncooked, Frozen   6 Oz. Per Portion   1...   \n",
       "1114  Perishable, use or freeze within 21 days of de...   \n",
       "1115  (8) A5 Wagyu Filet Mignons Steaks, 6 ounces ea...   \n",
       "\n",
       "                                    Product Description  Numeric Rating  \n",
       "1111  D’Artagnan Whole Ducklings are raised with car...             4.5  \n",
       "1112  In collaboration with Northwest Fish, El Rey d...             4.5  \n",
       "1113  Mahi Mahi is a lean flesh fish with a mild, sw...             4.8  \n",
       "1114  We select and handcraft the finest cuts, then ...             4.2  \n",
       "1115  Cut from the heart of the tenderloin, Authenti...             4.7  "
      ]
     },
     "execution_count": 26,
     "metadata": {},
     "output_type": "execute_result"
    }
   ],
   "source": [
    "meat_seafood_data.tail()"
   ]
  },
  {
   "cell_type": "code",
   "execution_count": 27,
   "id": "0d3e1ed4",
   "metadata": {},
   "outputs": [
    {
     "data": {
      "text/html": [
       "<div>\n",
       "<style scoped>\n",
       "    .dataframe tbody tr th:only-of-type {\n",
       "        vertical-align: middle;\n",
       "    }\n",
       "\n",
       "    .dataframe tbody tr th {\n",
       "        vertical-align: top;\n",
       "    }\n",
       "\n",
       "    .dataframe thead th {\n",
       "        text-align: right;\n",
       "    }\n",
       "</style>\n",
       "<table border=\"1\" class=\"dataframe\">\n",
       "  <thead>\n",
       "    <tr style=\"text-align: right;\">\n",
       "      <th></th>\n",
       "      <th>Sub Category</th>\n",
       "      <th>Price</th>\n",
       "      <th>Discount</th>\n",
       "      <th>Rating</th>\n",
       "      <th>Title</th>\n",
       "      <th>Currency</th>\n",
       "      <th>Feature</th>\n",
       "      <th>Product Description</th>\n",
       "      <th>Numeric Rating</th>\n",
       "    </tr>\n",
       "  </thead>\n",
       "  <tbody>\n",
       "    <tr>\n",
       "      <th>972</th>\n",
       "      <td>Meat &amp; Seafood</td>\n",
       "      <td>149.99</td>\n",
       "      <td>After $70 OFF</td>\n",
       "      <td>Rated 4.6 out of 5 stars based on 1237 reviews.</td>\n",
       "      <td>Ahi Tuna Individual Vacuum Packed Portion (26-...</td>\n",
       "      <td>$</td>\n",
       "      <td>Wild, Boneless Ahi Tuna, Frozen   6 oz. Portio...</td>\n",
       "      <td>Ahi means “fire” in Hawaiian and refers to the...</td>\n",
       "      <td>4.600000</td>\n",
       "    </tr>\n",
       "    <tr>\n",
       "      <th>973</th>\n",
       "      <td>Meat &amp; Seafood</td>\n",
       "      <td>229.99</td>\n",
       "      <td>After $60 OFF</td>\n",
       "      <td>No Reviews</td>\n",
       "      <td>Chicago Steak USDA Prime Beef Wet Aged Boneles...</td>\n",
       "      <td>$</td>\n",
       "      <td>8 USDA Prime Wet Aged Boneless NY Strips (12 O...</td>\n",
       "      <td>These tender Boneless Strips and juicy Gourmet...</td>\n",
       "      <td>4.213077</td>\n",
       "    </tr>\n",
       "    <tr>\n",
       "      <th>974</th>\n",
       "      <td>Meat &amp; Seafood</td>\n",
       "      <td>239.99</td>\n",
       "      <td>After $60 OFF</td>\n",
       "      <td>Rated 4 out of 5 stars based on 108 reviews.</td>\n",
       "      <td>Alaska Home Pack Frozen Sea Cucumber - 3 Packs...</td>\n",
       "      <td>$</td>\n",
       "      <td>Please Check Below for Pack Contents   Wild &amp; ...</td>\n",
       "      <td>Semi-dehydrated then frozen Sea Cucumber Skins...</td>\n",
       "      <td>4.000000</td>\n",
       "    </tr>\n",
       "    <tr>\n",
       "      <th>975</th>\n",
       "      <td>Meat &amp; Seafood</td>\n",
       "      <td>14.99</td>\n",
       "      <td>No Discount</td>\n",
       "      <td>NaN</td>\n",
       "      <td>Crown Prince Smoked Oysters in Olive Oil, Fanc...</td>\n",
       "      <td>$</td>\n",
       "      <td>ASC Certified   From Managed Fisheries   Fresh...</td>\n",
       "      <td>WARNING:Consuming this product can expose you ...</td>\n",
       "      <td>4.213077</td>\n",
       "    </tr>\n",
       "    <tr>\n",
       "      <th>976</th>\n",
       "      <td>Meat &amp; Seafood</td>\n",
       "      <td>204.99</td>\n",
       "      <td>After $40 - $80 OFF</td>\n",
       "      <td>through</td>\n",
       "      <td>Kansas City Steak Company USDA Choice Ribeye S...</td>\n",
       "      <td>$</td>\n",
       "      <td>Buy More and Save   Aged Beef up to 28 Days   ...</td>\n",
       "      <td>These steaks are cut by Kansas City Steak Comp...</td>\n",
       "      <td>4.213077</td>\n",
       "    </tr>\n",
       "  </tbody>\n",
       "</table>\n",
       "</div>"
      ],
      "text/plain": [
       "       Sub Category   Price             Discount  \\\n",
       "972  Meat & Seafood  149.99        After $70 OFF   \n",
       "973  Meat & Seafood  229.99        After $60 OFF   \n",
       "974  Meat & Seafood  239.99        After $60 OFF   \n",
       "975  Meat & Seafood   14.99          No Discount   \n",
       "976  Meat & Seafood  204.99  After $40 - $80 OFF   \n",
       "\n",
       "                                              Rating  \\\n",
       "972  Rated 4.6 out of 5 stars based on 1237 reviews.   \n",
       "973                                       No Reviews   \n",
       "974     Rated 4 out of 5 stars based on 108 reviews.   \n",
       "975                                              NaN   \n",
       "976                                          through   \n",
       "\n",
       "                                                 Title Currency  \\\n",
       "972  Ahi Tuna Individual Vacuum Packed Portion (26-...        $   \n",
       "973  Chicago Steak USDA Prime Beef Wet Aged Boneles...        $   \n",
       "974  Alaska Home Pack Frozen Sea Cucumber - 3 Packs...        $   \n",
       "975  Crown Prince Smoked Oysters in Olive Oil, Fanc...        $   \n",
       "976  Kansas City Steak Company USDA Choice Ribeye S...        $   \n",
       "\n",
       "                                               Feature  \\\n",
       "972  Wild, Boneless Ahi Tuna, Frozen   6 oz. Portio...   \n",
       "973  8 USDA Prime Wet Aged Boneless NY Strips (12 O...   \n",
       "974  Please Check Below for Pack Contents   Wild & ...   \n",
       "975  ASC Certified   From Managed Fisheries   Fresh...   \n",
       "976  Buy More and Save   Aged Beef up to 28 Days   ...   \n",
       "\n",
       "                                   Product Description  Numeric Rating  \n",
       "972  Ahi means “fire” in Hawaiian and refers to the...        4.600000  \n",
       "973  These tender Boneless Strips and juicy Gourmet...        4.213077  \n",
       "974  Semi-dehydrated then frozen Sea Cucumber Skins...        4.000000  \n",
       "975  WARNING:Consuming this product can expose you ...        4.213077  \n",
       "976  These steaks are cut by Kansas City Steak Comp...        4.213077  "
      ]
     },
     "execution_count": 27,
     "metadata": {},
     "output_type": "execute_result"
    }
   ],
   "source": [
    "meat_seafood_data.head()"
   ]
  },
  {
   "cell_type": "markdown",
   "id": "d2c18eac",
   "metadata": {},
   "source": [
    "***Let's proceed with the linear regression analysis for the 'Meat and Seafood' category, focusing on the relationship between 'Price' and 'Numeric Rating'. We'll use Python's scikit-learn library to perform this analysis."
   ]
  },
  {
   "cell_type": "code",
   "execution_count": 28,
   "id": "58c4b019",
   "metadata": {},
   "outputs": [],
   "source": [
    "#let's prepare our independent variable (X) and dependent variable (y)\n",
    "\n",
    "from sklearn.model_selection import train_test_split\n",
    "from sklearn.linear_model import LinearRegression\n",
    "from sklearn.metrics import mean_squared_error, r2_score\n",
    "\n",
    "# Assuming 'Price' is your independent variable and 'Numeric Rating' is your dependent variable\n",
    "X = meat_seafood_data[['Price']]  # Independent variable\n",
    "y = meat_seafood_data['Numeric Rating']  # Dependent variable"
   ]
  },
  {
   "cell_type": "code",
   "execution_count": 29,
   "id": "37948151",
   "metadata": {},
   "outputs": [],
   "source": [
    "# Splitting the data into training (80%) and testing (20%) sets\n",
    "X_train, X_test, y_train, y_test = train_test_split(X, y, test_size=0.2, random_state=42)"
   ]
  },
  {
   "cell_type": "code",
   "execution_count": 30,
   "id": "54ae64e1",
   "metadata": {},
   "outputs": [
    {
     "data": {
      "text/html": [
       "<style>#sk-container-id-1 {color: black;}#sk-container-id-1 pre{padding: 0;}#sk-container-id-1 div.sk-toggleable {background-color: white;}#sk-container-id-1 label.sk-toggleable__label {cursor: pointer;display: block;width: 100%;margin-bottom: 0;padding: 0.3em;box-sizing: border-box;text-align: center;}#sk-container-id-1 label.sk-toggleable__label-arrow:before {content: \"▸\";float: left;margin-right: 0.25em;color: #696969;}#sk-container-id-1 label.sk-toggleable__label-arrow:hover:before {color: black;}#sk-container-id-1 div.sk-estimator:hover label.sk-toggleable__label-arrow:before {color: black;}#sk-container-id-1 div.sk-toggleable__content {max-height: 0;max-width: 0;overflow: hidden;text-align: left;background-color: #f0f8ff;}#sk-container-id-1 div.sk-toggleable__content pre {margin: 0.2em;color: black;border-radius: 0.25em;background-color: #f0f8ff;}#sk-container-id-1 input.sk-toggleable__control:checked~div.sk-toggleable__content {max-height: 200px;max-width: 100%;overflow: auto;}#sk-container-id-1 input.sk-toggleable__control:checked~label.sk-toggleable__label-arrow:before {content: \"▾\";}#sk-container-id-1 div.sk-estimator input.sk-toggleable__control:checked~label.sk-toggleable__label {background-color: #d4ebff;}#sk-container-id-1 div.sk-label input.sk-toggleable__control:checked~label.sk-toggleable__label {background-color: #d4ebff;}#sk-container-id-1 input.sk-hidden--visually {border: 0;clip: rect(1px 1px 1px 1px);clip: rect(1px, 1px, 1px, 1px);height: 1px;margin: -1px;overflow: hidden;padding: 0;position: absolute;width: 1px;}#sk-container-id-1 div.sk-estimator {font-family: monospace;background-color: #f0f8ff;border: 1px dotted black;border-radius: 0.25em;box-sizing: border-box;margin-bottom: 0.5em;}#sk-container-id-1 div.sk-estimator:hover {background-color: #d4ebff;}#sk-container-id-1 div.sk-parallel-item::after {content: \"\";width: 100%;border-bottom: 1px solid gray;flex-grow: 1;}#sk-container-id-1 div.sk-label:hover label.sk-toggleable__label {background-color: #d4ebff;}#sk-container-id-1 div.sk-serial::before {content: \"\";position: absolute;border-left: 1px solid gray;box-sizing: border-box;top: 0;bottom: 0;left: 50%;z-index: 0;}#sk-container-id-1 div.sk-serial {display: flex;flex-direction: column;align-items: center;background-color: white;padding-right: 0.2em;padding-left: 0.2em;position: relative;}#sk-container-id-1 div.sk-item {position: relative;z-index: 1;}#sk-container-id-1 div.sk-parallel {display: flex;align-items: stretch;justify-content: center;background-color: white;position: relative;}#sk-container-id-1 div.sk-item::before, #sk-container-id-1 div.sk-parallel-item::before {content: \"\";position: absolute;border-left: 1px solid gray;box-sizing: border-box;top: 0;bottom: 0;left: 50%;z-index: -1;}#sk-container-id-1 div.sk-parallel-item {display: flex;flex-direction: column;z-index: 1;position: relative;background-color: white;}#sk-container-id-1 div.sk-parallel-item:first-child::after {align-self: flex-end;width: 50%;}#sk-container-id-1 div.sk-parallel-item:last-child::after {align-self: flex-start;width: 50%;}#sk-container-id-1 div.sk-parallel-item:only-child::after {width: 0;}#sk-container-id-1 div.sk-dashed-wrapped {border: 1px dashed gray;margin: 0 0.4em 0.5em 0.4em;box-sizing: border-box;padding-bottom: 0.4em;background-color: white;}#sk-container-id-1 div.sk-label label {font-family: monospace;font-weight: bold;display: inline-block;line-height: 1.2em;}#sk-container-id-1 div.sk-label-container {text-align: center;}#sk-container-id-1 div.sk-container {/* jupyter's `normalize.less` sets `[hidden] { display: none; }` but bootstrap.min.css set `[hidden] { display: none !important; }` so we also need the `!important` here to be able to override the default hidden behavior on the sphinx rendered scikit-learn.org. See: https://github.com/scikit-learn/scikit-learn/issues/21755 */display: inline-block !important;position: relative;}#sk-container-id-1 div.sk-text-repr-fallback {display: none;}</style><div id=\"sk-container-id-1\" class=\"sk-top-container\"><div class=\"sk-text-repr-fallback\"><pre>LinearRegression()</pre><b>In a Jupyter environment, please rerun this cell to show the HTML representation or trust the notebook. <br />On GitHub, the HTML representation is unable to render, please try loading this page with nbviewer.org.</b></div><div class=\"sk-container\" hidden><div class=\"sk-item\"><div class=\"sk-estimator sk-toggleable\"><input class=\"sk-toggleable__control sk-hidden--visually\" id=\"sk-estimator-id-1\" type=\"checkbox\" checked><label for=\"sk-estimator-id-1\" class=\"sk-toggleable__label sk-toggleable__label-arrow\">LinearRegression</label><div class=\"sk-toggleable__content\"><pre>LinearRegression()</pre></div></div></div></div></div>"
      ],
      "text/plain": [
       "LinearRegression()"
      ]
     },
     "execution_count": 30,
     "metadata": {},
     "output_type": "execute_result"
    }
   ],
   "source": [
    "# Creating a Linear Regression model\n",
    "model = LinearRegression()\n",
    "\n",
    "# Fitting the model to the training data\n",
    "model.fit(X_train, y_train)"
   ]
  },
  {
   "cell_type": "code",
   "execution_count": 31,
   "id": "b88e0eb7",
   "metadata": {},
   "outputs": [
    {
     "name": "stdout",
     "output_type": "stream",
     "text": [
      "Mean Squared Error: 0.17544726731339705\n",
      "R^2 Score: -0.0288891234889197\n"
     ]
    }
   ],
   "source": [
    "# Making predictions using the test data\n",
    "y_pred = model.predict(X_test)\n",
    "\n",
    "# Evaluating the model\n",
    "mse = mean_squared_error(y_test, y_pred)\n",
    "r2 = r2_score(y_test, y_pred)\n",
    "\n",
    "print(f\"Mean Squared Error: {mse}\")\n",
    "print(f\"R^2 Score: {r2}\")"
   ]
  },
  {
   "cell_type": "markdown",
   "id": "f703d42e",
   "metadata": {},
   "source": [
    "***The results from our linear regression analysis show a Mean Squared Error (MSE) of approximately 0.175 and an R² Score of approximately -0.029. Let's interpret these values: The R² Score, or coefficient of determination, is a statistical measure that represents the proportion of the variance for the dependent variable that's explained by the independent variable(s) in a regression model. An R² Score can range from -∞ to 1. A score of 0 indicates that the model explains none of the variability of the response data around its mean. A score of 1 indicates that it explains all the variability. An R² Score of -0.029 suggests that the model does not fit the data well and, in fact, performs slightly worse than a simple horizontal line (which would represent the mean rating regardless of price). The negative R² Score is a sign that the linear model is not suitable for the data. This could be due to several reasons, such as: -There might not be a linear relationship between 'Price' and 'Numeric Rating'. -Other variables not included in the model might have a significant impact on 'Numeric Rating'. -There could be outliers or other issues in the data affecting the model's performance."
   ]
  },
  {
   "cell_type": "code",
   "execution_count": 32,
   "id": "4451ca24",
   "metadata": {},
   "outputs": [
    {
     "data": {
      "text/html": [
       "<style>#sk-container-id-2 {color: black;}#sk-container-id-2 pre{padding: 0;}#sk-container-id-2 div.sk-toggleable {background-color: white;}#sk-container-id-2 label.sk-toggleable__label {cursor: pointer;display: block;width: 100%;margin-bottom: 0;padding: 0.3em;box-sizing: border-box;text-align: center;}#sk-container-id-2 label.sk-toggleable__label-arrow:before {content: \"▸\";float: left;margin-right: 0.25em;color: #696969;}#sk-container-id-2 label.sk-toggleable__label-arrow:hover:before {color: black;}#sk-container-id-2 div.sk-estimator:hover label.sk-toggleable__label-arrow:before {color: black;}#sk-container-id-2 div.sk-toggleable__content {max-height: 0;max-width: 0;overflow: hidden;text-align: left;background-color: #f0f8ff;}#sk-container-id-2 div.sk-toggleable__content pre {margin: 0.2em;color: black;border-radius: 0.25em;background-color: #f0f8ff;}#sk-container-id-2 input.sk-toggleable__control:checked~div.sk-toggleable__content {max-height: 200px;max-width: 100%;overflow: auto;}#sk-container-id-2 input.sk-toggleable__control:checked~label.sk-toggleable__label-arrow:before {content: \"▾\";}#sk-container-id-2 div.sk-estimator input.sk-toggleable__control:checked~label.sk-toggleable__label {background-color: #d4ebff;}#sk-container-id-2 div.sk-label input.sk-toggleable__control:checked~label.sk-toggleable__label {background-color: #d4ebff;}#sk-container-id-2 input.sk-hidden--visually {border: 0;clip: rect(1px 1px 1px 1px);clip: rect(1px, 1px, 1px, 1px);height: 1px;margin: -1px;overflow: hidden;padding: 0;position: absolute;width: 1px;}#sk-container-id-2 div.sk-estimator {font-family: monospace;background-color: #f0f8ff;border: 1px dotted black;border-radius: 0.25em;box-sizing: border-box;margin-bottom: 0.5em;}#sk-container-id-2 div.sk-estimator:hover {background-color: #d4ebff;}#sk-container-id-2 div.sk-parallel-item::after {content: \"\";width: 100%;border-bottom: 1px solid gray;flex-grow: 1;}#sk-container-id-2 div.sk-label:hover label.sk-toggleable__label {background-color: #d4ebff;}#sk-container-id-2 div.sk-serial::before {content: \"\";position: absolute;border-left: 1px solid gray;box-sizing: border-box;top: 0;bottom: 0;left: 50%;z-index: 0;}#sk-container-id-2 div.sk-serial {display: flex;flex-direction: column;align-items: center;background-color: white;padding-right: 0.2em;padding-left: 0.2em;position: relative;}#sk-container-id-2 div.sk-item {position: relative;z-index: 1;}#sk-container-id-2 div.sk-parallel {display: flex;align-items: stretch;justify-content: center;background-color: white;position: relative;}#sk-container-id-2 div.sk-item::before, #sk-container-id-2 div.sk-parallel-item::before {content: \"\";position: absolute;border-left: 1px solid gray;box-sizing: border-box;top: 0;bottom: 0;left: 50%;z-index: -1;}#sk-container-id-2 div.sk-parallel-item {display: flex;flex-direction: column;z-index: 1;position: relative;background-color: white;}#sk-container-id-2 div.sk-parallel-item:first-child::after {align-self: flex-end;width: 50%;}#sk-container-id-2 div.sk-parallel-item:last-child::after {align-self: flex-start;width: 50%;}#sk-container-id-2 div.sk-parallel-item:only-child::after {width: 0;}#sk-container-id-2 div.sk-dashed-wrapped {border: 1px dashed gray;margin: 0 0.4em 0.5em 0.4em;box-sizing: border-box;padding-bottom: 0.4em;background-color: white;}#sk-container-id-2 div.sk-label label {font-family: monospace;font-weight: bold;display: inline-block;line-height: 1.2em;}#sk-container-id-2 div.sk-label-container {text-align: center;}#sk-container-id-2 div.sk-container {/* jupyter's `normalize.less` sets `[hidden] { display: none; }` but bootstrap.min.css set `[hidden] { display: none !important; }` so we also need the `!important` here to be able to override the default hidden behavior on the sphinx rendered scikit-learn.org. See: https://github.com/scikit-learn/scikit-learn/issues/21755 */display: inline-block !important;position: relative;}#sk-container-id-2 div.sk-text-repr-fallback {display: none;}</style><div id=\"sk-container-id-2\" class=\"sk-top-container\"><div class=\"sk-text-repr-fallback\"><pre>LinearRegression()</pre><b>In a Jupyter environment, please rerun this cell to show the HTML representation or trust the notebook. <br />On GitHub, the HTML representation is unable to render, please try loading this page with nbviewer.org.</b></div><div class=\"sk-container\" hidden><div class=\"sk-item\"><div class=\"sk-estimator sk-toggleable\"><input class=\"sk-toggleable__control sk-hidden--visually\" id=\"sk-estimator-id-2\" type=\"checkbox\" checked><label for=\"sk-estimator-id-2\" class=\"sk-toggleable__label sk-toggleable__label-arrow\">LinearRegression</label><div class=\"sk-toggleable__content\"><pre>LinearRegression()</pre></div></div></div></div></div>"
      ],
      "text/plain": [
       "LinearRegression()"
      ]
     },
     "execution_count": 32,
     "metadata": {},
     "output_type": "execute_result"
    }
   ],
   "source": [
    "from sklearn.linear_model import LinearRegression\n",
    "import numpy as np\n",
    "\n",
    "# Assuming 'Price' and 'Numeric Rating' are your features and target variable\n",
    "X = meat_seafood_data[['Price']]  # Independent variable (Price)\n",
    "y = meat_seafood_data['Numeric Rating']  # Dependent variable (Rating)\n",
    "\n",
    "# Fit the Linear Regression model\n",
    "model = LinearRegression()\n",
    "model.fit(X, y)"
   ]
  },
  {
   "cell_type": "code",
   "execution_count": 33,
   "id": "24b1e716",
   "metadata": {},
   "outputs": [
    {
     "name": "stderr",
     "output_type": "stream",
     "text": [
      "C:\\Users\\shimu\\anaconda3\\Lib\\site-packages\\sklearn\\base.py:464: UserWarning: X does not have valid feature names, but LinearRegression was fitted with feature names\n",
      "  warnings.warn(\n"
     ]
    }
   ],
   "source": [
    "# Creating a range of values for 'Price' to plot the regression line\n",
    "x_range = np.linspace(X.min(), X.max(), 100)\n",
    "y_range = model.predict(x_range.reshape(-1, 1))"
   ]
  },
  {
   "cell_type": "code",
   "execution_count": 34,
   "id": "be2ce06d",
   "metadata": {},
   "outputs": [
    {
     "data": {
      "image/png": "[encoded data removed]",
      "text/plain": [
       "<Figure size 640x480 with 1 Axes>"
      ]
     },
     "metadata": {},
     "output_type": "display_data"
    }
   ],
   "source": [
    "import matplotlib.pyplot as plt\n",
    "\n",
    "# Plotting the actual data points\n",
    "plt.scatter(X, y, color='blue', label='Actual Data')\n",
    "\n",
    "# Plotting the regression line\n",
    "plt.plot(x_range, y_range, color='red', label='Regression Line')\n",
    "\n",
    "# Adding labels and title\n",
    "plt.xlabel('Price')\n",
    "plt.ylabel('Numeric Rating')\n",
    "plt.title('Price vs Numeric Rating in Meat and Seafood')\n",
    "\n",
    "# Adding a legend\n",
    "plt.legend()\n",
    "\n",
    "# Show the plot\n",
    "plt.show()"
   ]
  },
  {
   "cell_type": "markdown",
   "id": "9cee7511",
   "metadata": {},
   "source": [
    "***Now I'd like to identify any relationship between the rating and description. Identifying relationships between 'Rating' and 'Product Description' involves analyzing text data and its correlation with numeric ratings. This kind of analysis falls under the umbrella of Natural Language Processing (NLP) and sentiment analysis"
   ]
  },
  {
   "cell_type": "markdown",
   "id": "3a62f5de",
   "metadata": {},
   "source": [
    "**Before analyzing the text, it's important to preprocess it. This typically includes:"
   ]
  },
  {
   "cell_type": "markdown",
   "id": "7e06fa5f",
   "metadata": {},
   "source": [
    "Lowercasing: Convert all characters to lowercase to maintain consistency.\n",
    "Removing Punctuation and Special Characters: These are usually not useful for text analysis.\n",
    "Tokenization: Breaking down text into individual words (tokens).\n",
    "Removing Stop Words: Stop words are common words (like 'the', 'is', 'in') that are usually irrelevant for analysis.\n",
    "Stemming/Lemmatization: Reducing words to their base or root form."
   ]
  },
  {
   "cell_type": "markdown",
   "id": "6e104ed0",
   "metadata": {},
   "source": [
    "#### Python libraries like NLTK or spaCy can be used for these preprocessing steps."
   ]
  },
  {
   "cell_type": "code",
   "execution_count": 35,
   "id": "24b6c8b1",
   "metadata": {},
   "outputs": [
    {
     "name": "stderr",
     "output_type": "stream",
     "text": [
      "[nltk_data] Downloading package stopwords to\n",
      "[nltk_data]     C:\\Users\\shimu\\AppData\\Roaming\\nltk_data...\n",
      "[nltk_data]   Package stopwords is already up-to-date!\n",
      "[nltk_data] Downloading package wordnet to\n",
      "[nltk_data]     C:\\Users\\shimu\\AppData\\Roaming\\nltk_data...\n"
     ]
    },
    {
     "data": {
      "text/plain": [
       "True"
      ]
     },
     "execution_count": 35,
     "metadata": {},
     "output_type": "execute_result"
    }
   ],
   "source": [
    "import pandas as pd\n",
    "import numpy as np\n",
    "from sklearn.feature_extraction.text import TfidfVectorizer\n",
    "from sklearn.linear_model import LinearRegression\n",
    "from sklearn.model_selection import train_test_split\n",
    "from sklearn.metrics import mean_squared_error, r2_score\n",
    "import nltk\n",
    "from nltk.corpus import stopwords\n",
    "from nltk.stem import WordNetLemmatizer\n",
    "import re\n",
    "\n",
    "# Download necessary NLTK data\n",
    "nltk.download('stopwords')\n",
    "nltk.download('wordnet')"
   ]
  },
  {
   "cell_type": "code",
   "execution_count": 36,
   "id": "c8ba9d08",
   "metadata": {},
   "outputs": [],
   "source": [
    "def preprocess_text(text):\n",
    "    # Lowercase\n",
    "    text = text.lower()\n",
    "    # Remove special characters\n",
    "    text = re.sub(r'\\W', ' ', text)\n",
    "    # Tokenization and Remove stopwords\n",
    "    stop_words = set(stopwords.words('english'))\n",
    "    word_tokens = nltk.word_tokenize(text)\n",
    "    filtered_text = [word for word in word_tokens if word not in stop_words]\n",
    "    # Lemmatization\n",
    "    lemmatizer = WordNetLemmatizer()\n",
    "    lemmatized_text = [lemmatizer.lemmatize(word) for word in filtered_text]\n",
    "    return ' '.join(lemmatized_text)"
   ]
  },
  {
   "cell_type": "code",
   "execution_count": null,
   "id": "3d352d3c",
   "metadata": {},
   "outputs": [],
   "source": []
  },
  {
   "cell_type": "code",
   "execution_count": null,
   "id": "5fabe3c6",
   "metadata": {},
   "outputs": [],
   "source": []
  },
  {
   "cell_type": "code",
   "execution_count": null,
   "id": "5af88d4d",
   "metadata": {},
   "outputs": [],
   "source": []
  },
  {
   "cell_type": "code",
   "execution_count": null,
   "id": "f9c31f04",
   "metadata": {},
   "outputs": [],
   "source": []
  }
 ],
 "metadata": {
  "kernelspec": {
   "display_name": "Python 3 (ipykernel)",
   "language": "python",
   "name": "python3"
  },
  "language_info": {
   "codemirror_mode": {
    "name": "ipython",
    "version": 3
   },
   "file_extension": ".py",
   "mimetype": "text/x-python",
   "name": "python",
   "nbconvert_exporter": "python",
   "pygments_lexer": "ipython3",
   "version": "3.11.5"
  }
 },
 "nbformat": 4,
 "nbformat_minor": 5
}
