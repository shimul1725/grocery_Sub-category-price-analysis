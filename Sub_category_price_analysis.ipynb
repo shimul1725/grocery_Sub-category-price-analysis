{
 "cells": [
  {
   "cell_type": "code",
   "execution_count": 3,
   "id": "a9102203",
   "metadata": {},
   "outputs": [
    {
     "data": {
      "text/plain": [
       "(1757, 8)"
      ]
     },
     "execution_count": 3,
     "metadata": {},
     "output_type": "execute_result"
    }
   ],
   "source": [
    "import pandas as pd \n",
    "import numpy as np \n",
    "import matplotlib.pyplot as plt\n",
    "import seaborn as sns\n",
    "import os\n",
    "for dirname, _, filenames in os.walk('Data/input'):\n",
    "    for filename in filenames:\n",
    "        print(os.path.join(dirname, filename))\n",
    "\n",
    "pd.set_option('display.max_columns', 200)\n",
    "df = pd.read_csv('Data/GroceryDataset.csv')\n",
    "df.shape"
   ]
  },
  {
   "cell_type": "code",
   "execution_count": 4,
   "id": "7933606a",
   "metadata": {},
   "outputs": [
    {
     "data": {
      "text/plain": [
       "Index(['Sub Category', 'Price', 'Discount', 'Rating', 'Title', 'Currency',\n",
       "       'Feature', 'Product Description'],\n",
       "      dtype='object')"
      ]
     },
     "execution_count": 4,
     "metadata": {},
     "output_type": "execute_result"
    }
   ],
   "source": [
    "df.columns"
   ]
  },
  {
   "cell_type": "code",
   "execution_count": 5,
   "id": "1f90c7e0",
   "metadata": {},
   "outputs": [
    {
     "data": {
      "text/plain": [
       "Sub Category              0\n",
       "Price                     3\n",
       "Discount                  0\n",
       "Rating                 1075\n",
       "Title                     0\n",
       "Currency                  5\n",
       "Feature                  18\n",
       "Product Description      42\n",
       "dtype: int64"
      ]
     },
     "execution_count": 5,
     "metadata": {},
     "output_type": "execute_result"
    }
   ],
   "source": [
    "df.isna().sum()"
   ]
  },
  {
   "cell_type": "code",
   "execution_count": 16,
   "id": "9cdc0cbf",
   "metadata": {},
   "outputs": [],
   "source": [
    "df.drop_duplicates(inplace=True)"
   ]
  },
  {
   "cell_type": "code",
   "execution_count": 17,
   "id": "f36c8a0e",
   "metadata": {},
   "outputs": [
    {
     "data": {
      "text/html": [
       "<div>\n",
       "<style scoped>\n",
       "    .dataframe tbody tr th:only-of-type {\n",
       "        vertical-align: middle;\n",
       "    }\n",
       "\n",
       "    .dataframe tbody tr th {\n",
       "        vertical-align: top;\n",
       "    }\n",
       "\n",
       "    .dataframe thead th {\n",
       "        text-align: right;\n",
       "    }\n",
       "</style>\n",
       "<table border=\"1\" class=\"dataframe\">\n",
       "  <thead>\n",
       "    <tr style=\"text-align: right;\">\n",
       "      <th></th>\n",
       "      <th>Sub Category</th>\n",
       "      <th>Price</th>\n",
       "      <th>Discount</th>\n",
       "      <th>Rating</th>\n",
       "      <th>Title</th>\n",
       "      <th>Currency</th>\n",
       "      <th>Feature</th>\n",
       "      <th>Product Description</th>\n",
       "    </tr>\n",
       "  </thead>\n",
       "  <tbody>\n",
       "    <tr>\n",
       "      <th>0</th>\n",
       "      <td>Bakery &amp; Desserts</td>\n",
       "      <td>56.99</td>\n",
       "      <td>No Discount</td>\n",
       "      <td>Rated 4.3 out of 5 stars based on 265 reviews.</td>\n",
       "      <td>David’s Cookies Mile High Peanut Butter Cake, ...</td>\n",
       "      <td>$</td>\n",
       "      <td>\"10\"\" Peanut Butter Cake\\nCertified Kosher OU-...</td>\n",
       "      <td>A cake the dessert epicure will die for!Our To...</td>\n",
       "    </tr>\n",
       "    <tr>\n",
       "      <th>1</th>\n",
       "      <td>Bakery &amp; Desserts</td>\n",
       "      <td>159.99</td>\n",
       "      <td>No Discount</td>\n",
       "      <td>Rated 5 out of 5 stars based on 1 reviews.</td>\n",
       "      <td>The Cake Bake Shop 8\" Round Carrot Cake (16-22...</td>\n",
       "      <td>$</td>\n",
       "      <td>Spiced Carrot Cake with Cream Cheese Frosting ...</td>\n",
       "      <td>Due to the perishable nature of this item, ord...</td>\n",
       "    </tr>\n",
       "    <tr>\n",
       "      <th>2</th>\n",
       "      <td>Bakery &amp; Desserts</td>\n",
       "      <td>44.99</td>\n",
       "      <td>No Discount</td>\n",
       "      <td>Rated 4.1 out of 5 stars based on 441 reviews.</td>\n",
       "      <td>St Michel Madeleine, Classic French Sponge Cak...</td>\n",
       "      <td>$</td>\n",
       "      <td>100 count\\nIndividually wrapped\\nMade in and I...</td>\n",
       "      <td>Moist and buttery sponge cakes with the tradit...</td>\n",
       "    </tr>\n",
       "    <tr>\n",
       "      <th>3</th>\n",
       "      <td>Bakery &amp; Desserts</td>\n",
       "      <td>39.99</td>\n",
       "      <td>No Discount</td>\n",
       "      <td>Rated 4.7 out of 5 stars based on 9459 reviews.</td>\n",
       "      <td>David's Cookies Butter Pecan Meltaways 32 oz, ...</td>\n",
       "      <td>$</td>\n",
       "      <td>Butter Pecan Meltaways\\n32 oz 2-Pack\\nNo Prese...</td>\n",
       "      <td>These delectable butter pecan meltaways are th...</td>\n",
       "    </tr>\n",
       "    <tr>\n",
       "      <th>4</th>\n",
       "      <td>Bakery &amp; Desserts</td>\n",
       "      <td>59.99</td>\n",
       "      <td>No Discount</td>\n",
       "      <td>Rated 4.5 out of 5 stars based on 758 reviews.</td>\n",
       "      <td>David’s Cookies Premier Chocolate Cake, 7.2 lb...</td>\n",
       "      <td>$</td>\n",
       "      <td>\"10\" Four Layer Chocolate Cake\\nCertified Kosh...</td>\n",
       "      <td>A cake the dessert epicure will die for!To the...</td>\n",
       "    </tr>\n",
       "    <tr>\n",
       "      <th>...</th>\n",
       "      <td>...</td>\n",
       "      <td>...</td>\n",
       "      <td>...</td>\n",
       "      <td>...</td>\n",
       "      <td>...</td>\n",
       "      <td>...</td>\n",
       "      <td>...</td>\n",
       "      <td>...</td>\n",
       "    </tr>\n",
       "    <tr>\n",
       "      <th>1752</th>\n",
       "      <td>Snacks</td>\n",
       "      <td>23.99</td>\n",
       "      <td>No Discount</td>\n",
       "      <td>NaN</td>\n",
       "      <td>Oberto Thin Style Smoked Sausage Stick, Cockta...</td>\n",
       "      <td>$</td>\n",
       "      <td>Cocktail Pepperoni   Smoked Sausage Sticks   3...</td>\n",
       "      <td>Cocktail PepperoniSmoked Sausage Sticks3 oz ba...</td>\n",
       "    </tr>\n",
       "    <tr>\n",
       "      <th>1753</th>\n",
       "      <td>Snacks</td>\n",
       "      <td>49.99</td>\n",
       "      <td>No Discount</td>\n",
       "      <td>NaN</td>\n",
       "      <td>Cheetos Crunchy, Original, 2.1 oz, 64-count</td>\n",
       "      <td>$</td>\n",
       "      <td>Made with Real Cheese</td>\n",
       "      <td>64-count2.1 oz Bags</td>\n",
       "    </tr>\n",
       "    <tr>\n",
       "      <th>1754</th>\n",
       "      <td>Snacks</td>\n",
       "      <td>22.99</td>\n",
       "      <td>No Discount</td>\n",
       "      <td>NaN</td>\n",
       "      <td>Sabritas Chile &amp; Limon Mix, Variety Pack, 30-c...</td>\n",
       "      <td>$</td>\n",
       "      <td>Chile &amp; Limón Mix   Variety Pack   30 ct   Net...</td>\n",
       "      <td>8-Doritos Dinamita Chile Limón Flavored Rolled...</td>\n",
       "    </tr>\n",
       "    <tr>\n",
       "      <th>1755</th>\n",
       "      <td>Snacks</td>\n",
       "      <td>17.49</td>\n",
       "      <td>No Discount</td>\n",
       "      <td>NaN</td>\n",
       "      <td>Fruit Roll-Ups, Variety Pack, 72-count</td>\n",
       "      <td>$</td>\n",
       "      <td>Variety Pack   1   Box with 72 Rolls   Flavore...</td>\n",
       "      <td>Fruit Flavored Snacks\\nVariety Includes: Straw...</td>\n",
       "    </tr>\n",
       "    <tr>\n",
       "      <th>1756</th>\n",
       "      <td>Snacks</td>\n",
       "      <td>21.99</td>\n",
       "      <td>No Discount</td>\n",
       "      <td>NaN</td>\n",
       "      <td>Takis, Rolled Tortilla Chips, Intense Nacho, 1...</td>\n",
       "      <td>$</td>\n",
       "      <td>Intense Nacho Cheese   Non-Spicy   1 oz bag, 5...</td>\n",
       "      <td>Takis Non-Spicy Cheese Tortilla Chips\\nIndivid...</td>\n",
       "    </tr>\n",
       "  </tbody>\n",
       "</table>\n",
       "<p>1754 rows × 8 columns</p>\n",
       "</div>"
      ],
      "text/plain": [
       "           Sub Category   Price     Discount  \\\n",
       "0     Bakery & Desserts   56.99  No Discount   \n",
       "1     Bakery & Desserts  159.99  No Discount   \n",
       "2     Bakery & Desserts   44.99  No Discount   \n",
       "3     Bakery & Desserts   39.99  No Discount   \n",
       "4     Bakery & Desserts   59.99  No Discount   \n",
       "...                 ...     ...          ...   \n",
       "1752             Snacks   23.99  No Discount   \n",
       "1753             Snacks   49.99  No Discount   \n",
       "1754             Snacks   22.99  No Discount   \n",
       "1755             Snacks   17.49  No Discount   \n",
       "1756             Snacks   21.99  No Discount   \n",
       "\n",
       "                                               Rating  \\\n",
       "0      Rated 4.3 out of 5 stars based on 265 reviews.   \n",
       "1          Rated 5 out of 5 stars based on 1 reviews.   \n",
       "2      Rated 4.1 out of 5 stars based on 441 reviews.   \n",
       "3     Rated 4.7 out of 5 stars based on 9459 reviews.   \n",
       "4      Rated 4.5 out of 5 stars based on 758 reviews.   \n",
       "...                                               ...   \n",
       "1752                                              NaN   \n",
       "1753                                              NaN   \n",
       "1754                                              NaN   \n",
       "1755                                              NaN   \n",
       "1756                                              NaN   \n",
       "\n",
       "                                                  Title Currency  \\\n",
       "0     David’s Cookies Mile High Peanut Butter Cake, ...        $   \n",
       "1     The Cake Bake Shop 8\" Round Carrot Cake (16-22...        $   \n",
       "2     St Michel Madeleine, Classic French Sponge Cak...        $   \n",
       "3     David's Cookies Butter Pecan Meltaways 32 oz, ...        $   \n",
       "4     David’s Cookies Premier Chocolate Cake, 7.2 lb...        $   \n",
       "...                                                 ...      ...   \n",
       "1752  Oberto Thin Style Smoked Sausage Stick, Cockta...        $   \n",
       "1753        Cheetos Crunchy, Original, 2.1 oz, 64-count        $   \n",
       "1754  Sabritas Chile & Limon Mix, Variety Pack, 30-c...        $   \n",
       "1755             Fruit Roll-Ups, Variety Pack, 72-count        $   \n",
       "1756  Takis, Rolled Tortilla Chips, Intense Nacho, 1...        $   \n",
       "\n",
       "                                                Feature  \\\n",
       "0     \"10\"\" Peanut Butter Cake\\nCertified Kosher OU-...   \n",
       "1     Spiced Carrot Cake with Cream Cheese Frosting ...   \n",
       "2     100 count\\nIndividually wrapped\\nMade in and I...   \n",
       "3     Butter Pecan Meltaways\\n32 oz 2-Pack\\nNo Prese...   \n",
       "4     \"10\" Four Layer Chocolate Cake\\nCertified Kosh...   \n",
       "...                                                 ...   \n",
       "1752  Cocktail Pepperoni   Smoked Sausage Sticks   3...   \n",
       "1753                              Made with Real Cheese   \n",
       "1754  Chile & Limón Mix   Variety Pack   30 ct   Net...   \n",
       "1755  Variety Pack   1   Box with 72 Rolls   Flavore...   \n",
       "1756  Intense Nacho Cheese   Non-Spicy   1 oz bag, 5...   \n",
       "\n",
       "                                    Product Description  \n",
       "0     A cake the dessert epicure will die for!Our To...  \n",
       "1     Due to the perishable nature of this item, ord...  \n",
       "2     Moist and buttery sponge cakes with the tradit...  \n",
       "3     These delectable butter pecan meltaways are th...  \n",
       "4     A cake the dessert epicure will die for!To the...  \n",
       "...                                                 ...  \n",
       "1752  Cocktail PepperoniSmoked Sausage Sticks3 oz ba...  \n",
       "1753                                64-count2.1 oz Bags  \n",
       "1754  8-Doritos Dinamita Chile Limón Flavored Rolled...  \n",
       "1755  Fruit Flavored Snacks\\nVariety Includes: Straw...  \n",
       "1756  Takis Non-Spicy Cheese Tortilla Chips\\nIndivid...  \n",
       "\n",
       "[1754 rows x 8 columns]"
      ]
     },
     "metadata": {},
     "output_type": "display_data"
    }
   ],
   "source": [
    "display(df)"
   ]
  },
  {
   "cell_type": "code",
   "execution_count": 18,
   "id": "98381e00",
   "metadata": {},
   "outputs": [
    {
     "data": {
      "text/plain": [
       "Sub Category            object\n",
       "Price                  float64\n",
       "Discount                object\n",
       "Rating                  object\n",
       "Title                   object\n",
       "Currency                object\n",
       "Feature                 object\n",
       "Product Description     object\n",
       "dtype: object"
      ]
     },
     "execution_count": 18,
     "metadata": {},
     "output_type": "execute_result"
    }
   ],
   "source": [
    "df.dtypes"
   ]
  },
  {
   "cell_type": "code",
   "execution_count": 19,
   "id": "64c1e1be",
   "metadata": {},
   "outputs": [
    {
     "data": {
      "text/plain": [
       "array(['Bakery & Desserts', 'Beverages & Water', 'Breakfast', 'Candy',\n",
       "       'Cleaning Supplies', 'Coffee', 'Deli', 'Floral', 'Gift Baskets',\n",
       "       'Household', 'Kirkland Signature Grocery',\n",
       "       'Laundry Detergent & Supplies', 'Meat & Seafood', 'Organic',\n",
       "       'Pantry & Dry Goods', 'Paper & Plastic Products', 'Poultry',\n",
       "       'Seafood', 'Snacks'], dtype=object)"
      ]
     },
     "execution_count": 19,
     "metadata": {},
     "output_type": "execute_result"
    }
   ],
   "source": [
    "df['Sub Category'].unique()"
   ]
  },
  {
   "cell_type": "code",
   "execution_count": 20,
   "id": "8c3321bd",
   "metadata": {},
   "outputs": [
    {
     "name": "stderr",
     "output_type": "stream",
     "text": [
      "C:\\Users\\shimu\\AppData\\Local\\Temp\\ipykernel_7576\\3518138973.py:3: FutureWarning: The default value of regex will change from True to False in a future version. In addition, single character regular expressions will *not* be treated as literal strings when regex=True.\n",
      "  df['Price'] = df['Price'].str.replace('$', '')\n"
     ]
    }
   ],
   "source": [
    "df['Price'] = df['Price'].astype(str)\n",
    "\n",
    "df['Price'] = df['Price'].str.replace('$', '')\n",
    "df['Price'] = df['Price'].str.replace(r'through-\\d+\\.\\d+', '', regex=True)\n",
    "df['Price'] = df['Price'].str.replace(',', '')\n",
    "\n",
    "df['Price'] = pd.to_numeric(df['Price'], errors='coerce')"
   ]
  },
  {
   "cell_type": "code",
   "execution_count": 21,
   "id": "3f427371",
   "metadata": {},
   "outputs": [
    {
     "data": {
      "text/plain": [
       "Sub Category            object\n",
       "Price                  float64\n",
       "Discount                object\n",
       "Rating                  object\n",
       "Title                   object\n",
       "Currency                object\n",
       "Feature                 object\n",
       "Product Description     object\n",
       "dtype: object"
      ]
     },
     "execution_count": 21,
     "metadata": {},
     "output_type": "execute_result"
    }
   ],
   "source": [
    "df.dtypes"
   ]
  },
  {
   "cell_type": "code",
   "execution_count": 22,
   "id": "5c06086f",
   "metadata": {},
   "outputs": [
    {
     "data": {
      "text/html": [
       "<div>\n",
       "<style scoped>\n",
       "    .dataframe tbody tr th:only-of-type {\n",
       "        vertical-align: middle;\n",
       "    }\n",
       "\n",
       "    .dataframe tbody tr th {\n",
       "        vertical-align: top;\n",
       "    }\n",
       "\n",
       "    .dataframe thead th {\n",
       "        text-align: right;\n",
       "    }\n",
       "</style>\n",
       "<table border=\"1\" class=\"dataframe\">\n",
       "  <thead>\n",
       "    <tr style=\"text-align: right;\">\n",
       "      <th></th>\n",
       "      <th>Sub Category</th>\n",
       "      <th>Price</th>\n",
       "      <th>Currency</th>\n",
       "    </tr>\n",
       "  </thead>\n",
       "  <tbody>\n",
       "    <tr>\n",
       "      <th>0</th>\n",
       "      <td>Bakery &amp; Desserts</td>\n",
       "      <td>56.99</td>\n",
       "      <td>$</td>\n",
       "    </tr>\n",
       "    <tr>\n",
       "      <th>1</th>\n",
       "      <td>Bakery &amp; Desserts</td>\n",
       "      <td>159.99</td>\n",
       "      <td>$</td>\n",
       "    </tr>\n",
       "    <tr>\n",
       "      <th>2</th>\n",
       "      <td>Bakery &amp; Desserts</td>\n",
       "      <td>44.99</td>\n",
       "      <td>$</td>\n",
       "    </tr>\n",
       "    <tr>\n",
       "      <th>3</th>\n",
       "      <td>Bakery &amp; Desserts</td>\n",
       "      <td>39.99</td>\n",
       "      <td>$</td>\n",
       "    </tr>\n",
       "    <tr>\n",
       "      <th>4</th>\n",
       "      <td>Bakery &amp; Desserts</td>\n",
       "      <td>59.99</td>\n",
       "      <td>$</td>\n",
       "    </tr>\n",
       "    <tr>\n",
       "      <th>...</th>\n",
       "      <td>...</td>\n",
       "      <td>...</td>\n",
       "      <td>...</td>\n",
       "    </tr>\n",
       "    <tr>\n",
       "      <th>1752</th>\n",
       "      <td>Snacks</td>\n",
       "      <td>23.99</td>\n",
       "      <td>$</td>\n",
       "    </tr>\n",
       "    <tr>\n",
       "      <th>1753</th>\n",
       "      <td>Snacks</td>\n",
       "      <td>49.99</td>\n",
       "      <td>$</td>\n",
       "    </tr>\n",
       "    <tr>\n",
       "      <th>1754</th>\n",
       "      <td>Snacks</td>\n",
       "      <td>22.99</td>\n",
       "      <td>$</td>\n",
       "    </tr>\n",
       "    <tr>\n",
       "      <th>1755</th>\n",
       "      <td>Snacks</td>\n",
       "      <td>17.49</td>\n",
       "      <td>$</td>\n",
       "    </tr>\n",
       "    <tr>\n",
       "      <th>1756</th>\n",
       "      <td>Snacks</td>\n",
       "      <td>21.99</td>\n",
       "      <td>$</td>\n",
       "    </tr>\n",
       "  </tbody>\n",
       "</table>\n",
       "<p>1749 rows × 3 columns</p>\n",
       "</div>"
      ],
      "text/plain": [
       "           Sub Category   Price Currency\n",
       "0     Bakery & Desserts   56.99        $\n",
       "1     Bakery & Desserts  159.99        $\n",
       "2     Bakery & Desserts   44.99        $\n",
       "3     Bakery & Desserts   39.99        $\n",
       "4     Bakery & Desserts   59.99        $\n",
       "...                 ...     ...      ...\n",
       "1752             Snacks   23.99        $\n",
       "1753             Snacks   49.99        $\n",
       "1754             Snacks   22.99        $\n",
       "1755             Snacks   17.49        $\n",
       "1756             Snacks   21.99        $\n",
       "\n",
       "[1749 rows x 3 columns]"
      ]
     },
     "metadata": {},
     "output_type": "display_data"
    }
   ],
   "source": [
    "df_analysis = df[['Sub Category', 'Price', 'Currency']].dropna()\n",
    "display(df_analysis)"
   ]
  },
  {
   "cell_type": "code",
   "execution_count": 23,
   "id": "b8141aba",
   "metadata": {},
   "outputs": [
    {
     "data": {
      "text/plain": [
       "array(['$'], dtype=object)"
      ]
     },
     "execution_count": 23,
     "metadata": {},
     "output_type": "execute_result"
    }
   ],
   "source": [
    "df_analysis['Currency'].unique()"
   ]
  },
  {
   "cell_type": "code",
   "execution_count": 24,
   "id": "3e596236",
   "metadata": {},
   "outputs": [
    {
     "data": {
      "text/plain": [
       "Sub Category    0\n",
       "Price           0\n",
       "Currency        0\n",
       "dtype: int64"
      ]
     },
     "execution_count": 24,
     "metadata": {},
     "output_type": "execute_result"
    }
   ],
   "source": [
    "df_analysis.isna().sum()"
   ]
  },
  {
   "cell_type": "code",
   "execution_count": 25,
   "id": "9e3e001b",
   "metadata": {},
   "outputs": [
    {
     "data": {
      "text/plain": [
       "Sub Category\n",
       "Bakery & Desserts                2752.67\n",
       "Beverages & Water                5432.12\n",
       "Breakfast                         279.39\n",
       "Candy                            3841.67\n",
       "Cleaning Supplies                2853.56\n",
       "Coffee                           3123.65\n",
       "Deli                             7784.79\n",
       "Floral                           5398.25\n",
       "Gift Baskets                    10568.11\n",
       "Household                        2295.19\n",
       "Kirkland Signature Grocery       3430.58\n",
       "Laundry Detergent & Supplies     1321.91\n",
       "Meat & Seafood                  32828.55\n",
       "Organic                           739.87\n",
       "Pantry & Dry Goods               4976.69\n",
       "Paper & Plastic Products         2156.76\n",
       "Poultry                          1279.92\n",
       "Seafood                          9189.51\n",
       "Snacks                           6288.48\n",
       "Name: Price, dtype: float64"
      ]
     },
     "metadata": {},
     "output_type": "display_data"
    }
   ],
   "source": [
    "df_agrup_sum = df_analysis.groupby('Sub Category')['Price'].sum()\n",
    "display(df_agrup_sum)"
   ]
  },
  {
   "cell_type": "code",
   "execution_count": 26,
   "id": "ad593791",
   "metadata": {},
   "outputs": [
    {
     "data": {
      "text/plain": [
       "Sub Category\n",
       "Bakery & Desserts                83.414242\n",
       "Beverages & Water                36.703514\n",
       "Breakfast                        13.304286\n",
       "Candy                            25.108954\n",
       "Cleaning Supplies                30.357021\n",
       "Coffee                           32.880526\n",
       "Deli                            370.704286\n",
       "Floral                           71.976667\n",
       "Gift Baskets                    118.742809\n",
       "Household                        28.335679\n",
       "Kirkland Signature Grocery       28.119508\n",
       "Laundry Detergent & Supplies     33.895128\n",
       "Meat & Seafood                  229.570280\n",
       "Organic                          22.420303\n",
       "Pantry & Dry Goods               29.103450\n",
       "Paper & Plastic Products         25.675714\n",
       "Poultry                         159.990000\n",
       "Seafood                         195.521489\n",
       "Snacks                           21.535890\n",
       "Name: Price, dtype: float64"
      ]
     },
     "metadata": {},
     "output_type": "display_data"
    }
   ],
   "source": [
    "df_agrup_mean = df_analysis.groupby('Sub Category')['Price'].mean()\n",
    "display(df_agrup_mean)"
   ]
  },
  {
   "cell_type": "code",
   "execution_count": 27,
   "id": "0a75cfb2",
   "metadata": {},
   "outputs": [],
   "source": [
    "df_agrup_mean = df_agrup_mean.reset_index()"
   ]
  },
  {
   "cell_type": "code",
   "execution_count": 28,
   "id": "1bcca533",
   "metadata": {},
   "outputs": [
    {
     "name": "stderr",
     "output_type": "stream",
     "text": [
      "C:\\Users\\shimu\\anaconda3\\Lib\\site-packages\\seaborn\\axisgrid.py:118: UserWarning: The figure layout has changed to tight\n",
      "  self._figure.tight_layout(*args, **kwargs)\n"
     ]
    },
    {
     "data": {
      "text/plain": [
       "<Figure size 2000x2000 with 0 Axes>"
      ]
     },
     "metadata": {},
     "output_type": "display_data"
    },
    {
     "data": {
      "image/png": "[encoded data removed]",
      "text/plain": [
       "<Figure size 1000x500 with 1 Axes>"
      ]
     },
     "metadata": {},
     "output_type": "display_data"
    }
   ],
   "source": [
    "plt.figure(figsize=(20,20))\n",
    "sns.set(style=\"whitegrid\", context=\"talk\")\n",
    "sns.catplot(kind='bar',\n",
    "            data=df_agrup_mean,\n",
    "            x='Sub Category',\n",
    "             y='Price', \n",
    "             palette='viridis',\n",
    "             aspect=2)\n",
    "\n",
    "plt.xticks(rotation=90)\n",
    "plt.title('Mean price by sub category in dolar ($)')\n",
    "plt.show()"
   ]
  },
  {
   "cell_type": "code",
   "execution_count": null,
   "id": "7a6cbd12",
   "metadata": {},
   "outputs": [],
   "source": []
  },
  {
   "cell_type": "code",
   "execution_count": null,
   "id": "8ccf1589",
   "metadata": {},
   "outputs": [],
   "source": []
  },
  {
   "cell_type": "code",
   "execution_count": null,
   "id": "6ade45fd",
   "metadata": {},
   "outputs": [],
   "source": []
  }
 ],
 "metadata": {
  "kernelspec": {
   "display_name": "Python 3 (ipykernel)",
   "language": "python",
   "name": "python3"
  },
  "language_info": {
   "codemirror_mode": {
    "name": "ipython",
    "version": 3
   },
   "file_extension": ".py",
   "mimetype": "text/x-python",
   "name": "python",
   "nbconvert_exporter": "python",
   "pygments_lexer": "ipython3",
   "version": "3.11.5"
  }
 },
 "nbformat": 4,
 "nbformat_minor": 5
}
